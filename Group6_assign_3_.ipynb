{
  "cells": [
    {
      "cell_type": "markdown",
      "metadata": {
        "id": "view-in-github",
        "colab_type": "text"
      },
      "source": [
        "<a href=\"https://colab.research.google.com/github/apoorvap11/RML--Group-6/blob/main/Group6_assign_3_.ipynb\" target=\"_parent\"><img src=\"https://colab.research.google.com/assets/colab-badge.svg\" alt=\"Open In Colab\"/></a>"
      ]
    },
    {
      "cell_type": "markdown",
      "id": "1934d2de",
      "metadata": {
        "id": "1934d2de"
      },
      "source": [
        "## License\n",
        "\n",
        "Copyright 2021 - 2025 Patrick Hall (jphall@gwu.edu), Apoorva Paranthaman (apoorvap@gwu.edu), Maryam Shabhaz Ali (maryamshahbaz.ali@gwmail.gwu.edu), Zahra Sultani (zahra.sultani@gwmail.gwu.edu)\n",
        "\n",
        "Licensed under the Apache License, Version 2.0 (the \"License\");\n",
        "you may not use this file except in compliance with the License.\n",
        "You may obtain a copy of the License at\n",
        "\n",
        "    http://www.apache.org/licenses/LICENSE-2.0\n",
        "\n",
        "Unless required by applicable law or agreed to in writing, software\n",
        "distributed under the License is distributed on an \"AS IS\" BASIS,\n",
        "WITHOUT WARRANTIES OR CONDITIONS OF ANY KIND, either express or implied.\n",
        "See the License for the specific language governing permissions and\n",
        "limitations under the License.\n",
        "\n",
        "*DISCLAIMER*: This notebook is not legal or compliance advice."
      ]
    },
    {
      "cell_type": "markdown",
      "id": "c7556803",
      "metadata": {
        "id": "c7556803"
      },
      "source": [
        "# Assignment 3"
      ]
    },
    {
      "cell_type": "markdown",
      "source": [
        "#### Group members:\n",
        "1. Apoorva Paranthaman\n",
        "2. Maryam Shahbaz Ali\n",
        "3. Zahra Sultani"
      ],
      "metadata": {
        "id": "ufQW0h9rYmJX"
      },
      "id": "ufQW0h9rYmJX"
    },
    {
      "cell_type": "markdown",
      "id": "44ddbb28",
      "metadata": {
        "id": "44ddbb28"
      },
      "source": [
        "#### Imports and inits"
      ]
    },
    {
      "cell_type": "code",
      "source": [
        "!pip install interpret #h2o"
      ],
      "metadata": {
        "colab": {
          "base_uri": "https://localhost:8080/"
        },
        "id": "pl9CnmuYr5SW",
        "outputId": "9765628b-5013-4525-cdbc-822ef182c3cd"
      },
      "id": "pl9CnmuYr5SW",
      "execution_count": null,
      "outputs": [
        {
          "output_type": "stream",
          "name": "stdout",
          "text": [
            "Collecting interpret\n",
            "  Downloading interpret-0.6.10-py3-none-any.whl.metadata (1.2 kB)\n",
            "Collecting interpret-core==0.6.10 (from interpret-core[aplr,dash,debug,linear,notebook,plotly,sensitivity,shap]==0.6.10->interpret)\n",
            "  Downloading interpret_core-0.6.10-py3-none-any.whl.metadata (2.9 kB)\n",
            "Requirement already satisfied: numpy>=1.25 in /usr/local/lib/python3.11/dist-packages (from interpret-core==0.6.10->interpret-core[aplr,dash,debug,linear,notebook,plotly,sensitivity,shap]==0.6.10->interpret) (2.0.2)\n",
            "Requirement already satisfied: pandas>=0.19.2 in /usr/local/lib/python3.11/dist-packages (from interpret-core==0.6.10->interpret-core[aplr,dash,debug,linear,notebook,plotly,sensitivity,shap]==0.6.10->interpret) (2.2.2)\n",
            "Requirement already satisfied: scikit-learn>=0.18.1 in /usr/local/lib/python3.11/dist-packages (from interpret-core==0.6.10->interpret-core[aplr,dash,debug,linear,notebook,plotly,sensitivity,shap]==0.6.10->interpret) (1.6.1)\n",
            "Requirement already satisfied: joblib>=0.11 in /usr/local/lib/python3.11/dist-packages (from interpret-core==0.6.10->interpret-core[aplr,dash,debug,linear,notebook,plotly,sensitivity,shap]==0.6.10->interpret) (1.4.2)\n",
            "Requirement already satisfied: psutil>=5.6.2 in /usr/local/lib/python3.11/dist-packages (from interpret-core[aplr,dash,debug,linear,notebook,plotly,sensitivity,shap]==0.6.10->interpret) (5.9.5)\n",
            "Requirement already satisfied: ipykernel>=4.10.0 in /usr/local/lib/python3.11/dist-packages (from interpret-core[aplr,dash,debug,linear,notebook,plotly,sensitivity,shap]==0.6.10->interpret) (6.17.1)\n",
            "Requirement already satisfied: ipython>=5.5.0 in /usr/local/lib/python3.11/dist-packages (from interpret-core[aplr,dash,debug,linear,notebook,plotly,sensitivity,shap]==0.6.10->interpret) (7.34.0)\n",
            "Requirement already satisfied: plotly>=3.8.1 in /usr/local/lib/python3.11/dist-packages (from interpret-core[aplr,dash,debug,linear,notebook,plotly,sensitivity,shap]==0.6.10->interpret) (5.24.1)\n",
            "Collecting SALib>=1.3.3 (from interpret-core[aplr,dash,debug,linear,notebook,plotly,sensitivity,shap]==0.6.10->interpret)\n",
            "  Downloading salib-1.5.1-py3-none-any.whl.metadata (11 kB)\n",
            "Requirement already satisfied: shap>=0.28.5 in /usr/local/lib/python3.11/dist-packages (from interpret-core[aplr,dash,debug,linear,notebook,plotly,sensitivity,shap]==0.6.10->interpret) (0.47.2)\n",
            "Collecting dill>=0.2.5 (from interpret-core[aplr,dash,debug,linear,notebook,plotly,sensitivity,shap]==0.6.10->interpret)\n",
            "  Downloading dill-0.4.0-py3-none-any.whl.metadata (10 kB)\n",
            "Collecting aplr>=10.6.1 (from interpret-core[aplr,dash,debug,linear,notebook,plotly,sensitivity,shap]==0.6.10->interpret)\n",
            "  Downloading aplr-10.9.0-cp311-cp311-manylinux_2_17_x86_64.manylinux2014_x86_64.whl.metadata (2.4 kB)\n",
            "Collecting dash<3.0.0,>=1.0.0 (from interpret-core[aplr,dash,debug,linear,notebook,plotly,sensitivity,shap]==0.6.10->interpret)\n",
            "  Downloading dash-2.18.2-py3-none-any.whl.metadata (10 kB)\n",
            "Collecting dash-core-components>=1.0.0 (from interpret-core[aplr,dash,debug,linear,notebook,plotly,sensitivity,shap]==0.6.10->interpret)\n",
            "  Downloading dash_core_components-2.0.0-py3-none-any.whl.metadata (2.9 kB)\n",
            "Collecting dash-html-components>=1.0.0 (from interpret-core[aplr,dash,debug,linear,notebook,plotly,sensitivity,shap]==0.6.10->interpret)\n",
            "  Downloading dash_html_components-2.0.0-py3-none-any.whl.metadata (3.8 kB)\n",
            "Collecting dash-table>=4.1.0 (from interpret-core[aplr,dash,debug,linear,notebook,plotly,sensitivity,shap]==0.6.10->interpret)\n",
            "  Downloading dash_table-5.0.0-py3-none-any.whl.metadata (2.4 kB)\n",
            "Collecting dash-cytoscape>=0.1.1 (from interpret-core[aplr,dash,debug,linear,notebook,plotly,sensitivity,shap]==0.6.10->interpret)\n",
            "  Downloading dash_cytoscape-1.0.2.tar.gz (4.0 MB)\n",
            "\u001b[2K     \u001b[90m━━━━━━━━━━━━━━━━━━━━━━━━━━━━━━━━━━━━━━━━\u001b[0m \u001b[32m4.0/4.0 MB\u001b[0m \u001b[31m22.5 MB/s\u001b[0m eta \u001b[36m0:00:00\u001b[0m\n",
            "\u001b[?25h  Preparing metadata (setup.py) ... \u001b[?25l\u001b[?25hdone\n",
            "Collecting gevent>=1.3.6 (from interpret-core[aplr,dash,debug,linear,notebook,plotly,sensitivity,shap]==0.6.10->interpret)\n",
            "  Downloading gevent-25.4.2-cp311-cp311-manylinux_2_17_x86_64.manylinux2014_x86_64.whl.metadata (13 kB)\n",
            "Requirement already satisfied: requests>=2.19.0 in /usr/local/lib/python3.11/dist-packages (from interpret-core[aplr,dash,debug,linear,notebook,plotly,sensitivity,shap]==0.6.10->interpret) (2.32.3)\n",
            "Collecting Flask<3.1,>=1.0.4 (from dash<3.0.0,>=1.0.0->interpret-core[aplr,dash,debug,linear,notebook,plotly,sensitivity,shap]==0.6.10->interpret)\n",
            "  Downloading flask-3.0.3-py3-none-any.whl.metadata (3.2 kB)\n",
            "Collecting Werkzeug<3.1 (from dash<3.0.0,>=1.0.0->interpret-core[aplr,dash,debug,linear,notebook,plotly,sensitivity,shap]==0.6.10->interpret)\n",
            "  Downloading werkzeug-3.0.6-py3-none-any.whl.metadata (3.7 kB)\n",
            "Requirement already satisfied: importlib-metadata in /usr/local/lib/python3.11/dist-packages (from dash<3.0.0,>=1.0.0->interpret-core[aplr,dash,debug,linear,notebook,plotly,sensitivity,shap]==0.6.10->interpret) (8.6.1)\n",
            "Requirement already satisfied: typing-extensions>=4.1.1 in /usr/local/lib/python3.11/dist-packages (from dash<3.0.0,>=1.0.0->interpret-core[aplr,dash,debug,linear,notebook,plotly,sensitivity,shap]==0.6.10->interpret) (4.13.2)\n",
            "Collecting retrying (from dash<3.0.0,>=1.0.0->interpret-core[aplr,dash,debug,linear,notebook,plotly,sensitivity,shap]==0.6.10->interpret)\n",
            "  Downloading retrying-1.3.4-py3-none-any.whl.metadata (6.9 kB)\n",
            "Requirement already satisfied: nest-asyncio in /usr/local/lib/python3.11/dist-packages (from dash<3.0.0,>=1.0.0->interpret-core[aplr,dash,debug,linear,notebook,plotly,sensitivity,shap]==0.6.10->interpret) (1.6.0)\n",
            "Requirement already satisfied: setuptools in /usr/local/lib/python3.11/dist-packages (from dash<3.0.0,>=1.0.0->interpret-core[aplr,dash,debug,linear,notebook,plotly,sensitivity,shap]==0.6.10->interpret) (75.2.0)\n",
            "Requirement already satisfied: greenlet>=3.2.0 in /usr/local/lib/python3.11/dist-packages (from gevent>=1.3.6->interpret-core[aplr,dash,debug,linear,notebook,plotly,sensitivity,shap]==0.6.10->interpret) (3.2.1)\n",
            "Collecting zope.event (from gevent>=1.3.6->interpret-core[aplr,dash,debug,linear,notebook,plotly,sensitivity,shap]==0.6.10->interpret)\n",
            "  Downloading zope.event-5.0-py3-none-any.whl.metadata (4.4 kB)\n",
            "Collecting zope.interface (from gevent>=1.3.6->interpret-core[aplr,dash,debug,linear,notebook,plotly,sensitivity,shap]==0.6.10->interpret)\n",
            "  Downloading zope.interface-7.2-cp311-cp311-manylinux_2_5_x86_64.manylinux1_x86_64.manylinux_2_17_x86_64.manylinux2014_x86_64.whl.metadata (44 kB)\n",
            "\u001b[2K     \u001b[90m━━━━━━━━━━━━━━━━━━━━━━━━━━━━━━━━━━━━━━━\u001b[0m \u001b[32m44.4/44.4 kB\u001b[0m \u001b[31m505.5 kB/s\u001b[0m eta \u001b[36m0:00:00\u001b[0m\n",
            "\u001b[?25hRequirement already satisfied: debugpy>=1.0 in /usr/local/lib/python3.11/dist-packages (from ipykernel>=4.10.0->interpret-core[aplr,dash,debug,linear,notebook,plotly,sensitivity,shap]==0.6.10->interpret) (1.8.0)\n",
            "Requirement already satisfied: jupyter-client>=6.1.12 in /usr/local/lib/python3.11/dist-packages (from ipykernel>=4.10.0->interpret-core[aplr,dash,debug,linear,notebook,plotly,sensitivity,shap]==0.6.10->interpret) (6.1.12)\n",
            "Requirement already satisfied: matplotlib-inline>=0.1 in /usr/local/lib/python3.11/dist-packages (from ipykernel>=4.10.0->interpret-core[aplr,dash,debug,linear,notebook,plotly,sensitivity,shap]==0.6.10->interpret) (0.1.7)\n",
            "Requirement already satisfied: packaging in /usr/local/lib/python3.11/dist-packages (from ipykernel>=4.10.0->interpret-core[aplr,dash,debug,linear,notebook,plotly,sensitivity,shap]==0.6.10->interpret) (24.2)\n",
            "Requirement already satisfied: pyzmq>=17 in /usr/local/lib/python3.11/dist-packages (from ipykernel>=4.10.0->interpret-core[aplr,dash,debug,linear,notebook,plotly,sensitivity,shap]==0.6.10->interpret) (24.0.1)\n",
            "Requirement already satisfied: tornado>=6.1 in /usr/local/lib/python3.11/dist-packages (from ipykernel>=4.10.0->interpret-core[aplr,dash,debug,linear,notebook,plotly,sensitivity,shap]==0.6.10->interpret) (6.4.2)\n",
            "Requirement already satisfied: traitlets>=5.1.0 in /usr/local/lib/python3.11/dist-packages (from ipykernel>=4.10.0->interpret-core[aplr,dash,debug,linear,notebook,plotly,sensitivity,shap]==0.6.10->interpret) (5.7.1)\n",
            "Collecting jedi>=0.16 (from ipython>=5.5.0->interpret-core[aplr,dash,debug,linear,notebook,plotly,sensitivity,shap]==0.6.10->interpret)\n",
            "  Downloading jedi-0.19.2-py2.py3-none-any.whl.metadata (22 kB)\n",
            "Requirement already satisfied: decorator in /usr/local/lib/python3.11/dist-packages (from ipython>=5.5.0->interpret-core[aplr,dash,debug,linear,notebook,plotly,sensitivity,shap]==0.6.10->interpret) (4.4.2)\n",
            "Requirement already satisfied: pickleshare in /usr/local/lib/python3.11/dist-packages (from ipython>=5.5.0->interpret-core[aplr,dash,debug,linear,notebook,plotly,sensitivity,shap]==0.6.10->interpret) (0.7.5)\n",
            "Requirement already satisfied: prompt-toolkit!=3.0.0,!=3.0.1,<3.1.0,>=2.0.0 in /usr/local/lib/python3.11/dist-packages (from ipython>=5.5.0->interpret-core[aplr,dash,debug,linear,notebook,plotly,sensitivity,shap]==0.6.10->interpret) (3.0.51)\n",
            "Requirement already satisfied: pygments in /usr/local/lib/python3.11/dist-packages (from ipython>=5.5.0->interpret-core[aplr,dash,debug,linear,notebook,plotly,sensitivity,shap]==0.6.10->interpret) (2.18.0)\n",
            "Requirement already satisfied: backcall in /usr/local/lib/python3.11/dist-packages (from ipython>=5.5.0->interpret-core[aplr,dash,debug,linear,notebook,plotly,sensitivity,shap]==0.6.10->interpret) (0.2.0)\n",
            "Requirement already satisfied: pexpect>4.3 in /usr/local/lib/python3.11/dist-packages (from ipython>=5.5.0->interpret-core[aplr,dash,debug,linear,notebook,plotly,sensitivity,shap]==0.6.10->interpret) (4.9.0)\n",
            "Requirement already satisfied: python-dateutil>=2.8.2 in /usr/local/lib/python3.11/dist-packages (from pandas>=0.19.2->interpret-core==0.6.10->interpret-core[aplr,dash,debug,linear,notebook,plotly,sensitivity,shap]==0.6.10->interpret) (2.8.2)\n",
            "Requirement already satisfied: pytz>=2020.1 in /usr/local/lib/python3.11/dist-packages (from pandas>=0.19.2->interpret-core==0.6.10->interpret-core[aplr,dash,debug,linear,notebook,plotly,sensitivity,shap]==0.6.10->interpret) (2025.2)\n",
            "Requirement already satisfied: tzdata>=2022.7 in /usr/local/lib/python3.11/dist-packages (from pandas>=0.19.2->interpret-core==0.6.10->interpret-core[aplr,dash,debug,linear,notebook,plotly,sensitivity,shap]==0.6.10->interpret) (2025.2)\n",
            "Requirement already satisfied: tenacity>=6.2.0 in /usr/local/lib/python3.11/dist-packages (from plotly>=3.8.1->interpret-core[aplr,dash,debug,linear,notebook,plotly,sensitivity,shap]==0.6.10->interpret) (9.1.2)\n",
            "Requirement already satisfied: charset-normalizer<4,>=2 in /usr/local/lib/python3.11/dist-packages (from requests>=2.19.0->interpret-core[aplr,dash,debug,linear,notebook,plotly,sensitivity,shap]==0.6.10->interpret) (3.4.1)\n",
            "Requirement already satisfied: idna<4,>=2.5 in /usr/local/lib/python3.11/dist-packages (from requests>=2.19.0->interpret-core[aplr,dash,debug,linear,notebook,plotly,sensitivity,shap]==0.6.10->interpret) (3.10)\n",
            "Requirement already satisfied: urllib3<3,>=1.21.1 in /usr/local/lib/python3.11/dist-packages (from requests>=2.19.0->interpret-core[aplr,dash,debug,linear,notebook,plotly,sensitivity,shap]==0.6.10->interpret) (2.3.0)\n",
            "Requirement already satisfied: certifi>=2017.4.17 in /usr/local/lib/python3.11/dist-packages (from requests>=2.19.0->interpret-core[aplr,dash,debug,linear,notebook,plotly,sensitivity,shap]==0.6.10->interpret) (2025.1.31)\n",
            "Requirement already satisfied: matplotlib>=3.5 in /usr/local/lib/python3.11/dist-packages (from SALib>=1.3.3->interpret-core[aplr,dash,debug,linear,notebook,plotly,sensitivity,shap]==0.6.10->interpret) (3.10.0)\n",
            "Collecting multiprocess (from SALib>=1.3.3->interpret-core[aplr,dash,debug,linear,notebook,plotly,sensitivity,shap]==0.6.10->interpret)\n",
            "  Downloading multiprocess-0.70.18-py311-none-any.whl.metadata (7.5 kB)\n",
            "Requirement already satisfied: scipy>=1.9.3 in /usr/local/lib/python3.11/dist-packages (from SALib>=1.3.3->interpret-core[aplr,dash,debug,linear,notebook,plotly,sensitivity,shap]==0.6.10->interpret) (1.14.1)\n",
            "Requirement already satisfied: threadpoolctl>=3.1.0 in /usr/local/lib/python3.11/dist-packages (from scikit-learn>=0.18.1->interpret-core==0.6.10->interpret-core[aplr,dash,debug,linear,notebook,plotly,sensitivity,shap]==0.6.10->interpret) (3.6.0)\n",
            "Requirement already satisfied: tqdm>=4.27.0 in /usr/local/lib/python3.11/dist-packages (from shap>=0.28.5->interpret-core[aplr,dash,debug,linear,notebook,plotly,sensitivity,shap]==0.6.10->interpret) (4.67.1)\n",
            "Requirement already satisfied: slicer==0.0.8 in /usr/local/lib/python3.11/dist-packages (from shap>=0.28.5->interpret-core[aplr,dash,debug,linear,notebook,plotly,sensitivity,shap]==0.6.10->interpret) (0.0.8)\n",
            "Requirement already satisfied: numba>=0.54 in /usr/local/lib/python3.11/dist-packages (from shap>=0.28.5->interpret-core[aplr,dash,debug,linear,notebook,plotly,sensitivity,shap]==0.6.10->interpret) (0.60.0)\n",
            "Requirement already satisfied: cloudpickle in /usr/local/lib/python3.11/dist-packages (from shap>=0.28.5->interpret-core[aplr,dash,debug,linear,notebook,plotly,sensitivity,shap]==0.6.10->interpret) (3.1.1)\n",
            "Requirement already satisfied: Jinja2>=3.1.2 in /usr/local/lib/python3.11/dist-packages (from Flask<3.1,>=1.0.4->dash<3.0.0,>=1.0.0->interpret-core[aplr,dash,debug,linear,notebook,plotly,sensitivity,shap]==0.6.10->interpret) (3.1.6)\n",
            "Requirement already satisfied: itsdangerous>=2.1.2 in /usr/local/lib/python3.11/dist-packages (from Flask<3.1,>=1.0.4->dash<3.0.0,>=1.0.0->interpret-core[aplr,dash,debug,linear,notebook,plotly,sensitivity,shap]==0.6.10->interpret) (2.2.0)\n",
            "Requirement already satisfied: click>=8.1.3 in /usr/local/lib/python3.11/dist-packages (from Flask<3.1,>=1.0.4->dash<3.0.0,>=1.0.0->interpret-core[aplr,dash,debug,linear,notebook,plotly,sensitivity,shap]==0.6.10->interpret) (8.1.8)\n",
            "Requirement already satisfied: blinker>=1.6.2 in /usr/local/lib/python3.11/dist-packages (from Flask<3.1,>=1.0.4->dash<3.0.0,>=1.0.0->interpret-core[aplr,dash,debug,linear,notebook,plotly,sensitivity,shap]==0.6.10->interpret) (1.9.0)\n",
            "Requirement already satisfied: parso<0.9.0,>=0.8.4 in /usr/local/lib/python3.11/dist-packages (from jedi>=0.16->ipython>=5.5.0->interpret-core[aplr,dash,debug,linear,notebook,plotly,sensitivity,shap]==0.6.10->interpret) (0.8.4)\n",
            "Requirement already satisfied: jupyter-core>=4.6.0 in /usr/local/lib/python3.11/dist-packages (from jupyter-client>=6.1.12->ipykernel>=4.10.0->interpret-core[aplr,dash,debug,linear,notebook,plotly,sensitivity,shap]==0.6.10->interpret) (5.7.2)\n",
            "Requirement already satisfied: contourpy>=1.0.1 in /usr/local/lib/python3.11/dist-packages (from matplotlib>=3.5->SALib>=1.3.3->interpret-core[aplr,dash,debug,linear,notebook,plotly,sensitivity,shap]==0.6.10->interpret) (1.3.2)\n",
            "Requirement already satisfied: cycler>=0.10 in /usr/local/lib/python3.11/dist-packages (from matplotlib>=3.5->SALib>=1.3.3->interpret-core[aplr,dash,debug,linear,notebook,plotly,sensitivity,shap]==0.6.10->interpret) (0.12.1)\n",
            "Requirement already satisfied: fonttools>=4.22.0 in /usr/local/lib/python3.11/dist-packages (from matplotlib>=3.5->SALib>=1.3.3->interpret-core[aplr,dash,debug,linear,notebook,plotly,sensitivity,shap]==0.6.10->interpret) (4.57.0)\n",
            "Requirement already satisfied: kiwisolver>=1.3.1 in /usr/local/lib/python3.11/dist-packages (from matplotlib>=3.5->SALib>=1.3.3->interpret-core[aplr,dash,debug,linear,notebook,plotly,sensitivity,shap]==0.6.10->interpret) (1.4.8)\n",
            "Requirement already satisfied: pillow>=8 in /usr/local/lib/python3.11/dist-packages (from matplotlib>=3.5->SALib>=1.3.3->interpret-core[aplr,dash,debug,linear,notebook,plotly,sensitivity,shap]==0.6.10->interpret) (11.1.0)\n",
            "Requirement already satisfied: pyparsing>=2.3.1 in /usr/local/lib/python3.11/dist-packages (from matplotlib>=3.5->SALib>=1.3.3->interpret-core[aplr,dash,debug,linear,notebook,plotly,sensitivity,shap]==0.6.10->interpret) (3.2.3)\n",
            "Requirement already satisfied: llvmlite<0.44,>=0.43.0dev0 in /usr/local/lib/python3.11/dist-packages (from numba>=0.54->shap>=0.28.5->interpret-core[aplr,dash,debug,linear,notebook,plotly,sensitivity,shap]==0.6.10->interpret) (0.43.0)\n",
            "Requirement already satisfied: ptyprocess>=0.5 in /usr/local/lib/python3.11/dist-packages (from pexpect>4.3->ipython>=5.5.0->interpret-core[aplr,dash,debug,linear,notebook,plotly,sensitivity,shap]==0.6.10->interpret) (0.7.0)\n",
            "Requirement already satisfied: wcwidth in /usr/local/lib/python3.11/dist-packages (from prompt-toolkit!=3.0.0,!=3.0.1,<3.1.0,>=2.0.0->ipython>=5.5.0->interpret-core[aplr,dash,debug,linear,notebook,plotly,sensitivity,shap]==0.6.10->interpret) (0.2.13)\n",
            "Requirement already satisfied: six>=1.5 in /usr/local/lib/python3.11/dist-packages (from python-dateutil>=2.8.2->pandas>=0.19.2->interpret-core==0.6.10->interpret-core[aplr,dash,debug,linear,notebook,plotly,sensitivity,shap]==0.6.10->interpret) (1.17.0)\n",
            "Requirement already satisfied: MarkupSafe>=2.1.1 in /usr/local/lib/python3.11/dist-packages (from Werkzeug<3.1->dash<3.0.0,>=1.0.0->interpret-core[aplr,dash,debug,linear,notebook,plotly,sensitivity,shap]==0.6.10->interpret) (3.0.2)\n",
            "Requirement already satisfied: zipp>=3.20 in /usr/local/lib/python3.11/dist-packages (from importlib-metadata->dash<3.0.0,>=1.0.0->interpret-core[aplr,dash,debug,linear,notebook,plotly,sensitivity,shap]==0.6.10->interpret) (3.21.0)\n",
            "Requirement already satisfied: platformdirs>=2.5 in /usr/local/lib/python3.11/dist-packages (from jupyter-core>=4.6.0->jupyter-client>=6.1.12->ipykernel>=4.10.0->interpret-core[aplr,dash,debug,linear,notebook,plotly,sensitivity,shap]==0.6.10->interpret) (4.3.7)\n",
            "Downloading interpret-0.6.10-py3-none-any.whl (1.4 kB)\n",
            "Downloading interpret_core-0.6.10-py3-none-any.whl (16.6 MB)\n",
            "\u001b[2K   \u001b[90m━━━━━━━━━━━━━━━━━━━━━━━━━━━━━━━━━━━━━━━━\u001b[0m \u001b[32m16.6/16.6 MB\u001b[0m \u001b[31m45.7 MB/s\u001b[0m eta \u001b[36m0:00:00\u001b[0m\n",
            "\u001b[?25hDownloading aplr-10.9.0-cp311-cp311-manylinux_2_17_x86_64.manylinux2014_x86_64.whl (6.7 MB)\n",
            "\u001b[2K   \u001b[90m━━━━━━━━━━━━━━━━━━━━━━━━━━━━━━━━━━━━━━━━\u001b[0m \u001b[32m6.7/6.7 MB\u001b[0m \u001b[31m42.9 MB/s\u001b[0m eta \u001b[36m0:00:00\u001b[0m\n",
            "\u001b[?25hDownloading dash-2.18.2-py3-none-any.whl (7.8 MB)\n",
            "\u001b[2K   \u001b[90m━━━━━━━━━━━━━━━━━━━━━━━━━━━━━━━━━━━━━━━━\u001b[0m \u001b[32m7.8/7.8 MB\u001b[0m \u001b[31m44.4 MB/s\u001b[0m eta \u001b[36m0:00:00\u001b[0m\n",
            "\u001b[?25hDownloading dash_core_components-2.0.0-py3-none-any.whl (3.8 kB)\n",
            "Downloading dash_html_components-2.0.0-py3-none-any.whl (4.1 kB)\n",
            "Downloading dash_table-5.0.0-py3-none-any.whl (3.9 kB)\n",
            "Downloading dill-0.4.0-py3-none-any.whl (119 kB)\n",
            "\u001b[2K   \u001b[90m━━━━━━━━━━━━━━━━━━━━━━━━━━━━━━━━━━━━━━━━\u001b[0m \u001b[32m119.7/119.7 kB\u001b[0m \u001b[31m4.3 MB/s\u001b[0m eta \u001b[36m0:00:00\u001b[0m\n",
            "\u001b[?25hDownloading gevent-25.4.2-cp311-cp311-manylinux_2_17_x86_64.manylinux2014_x86_64.whl (2.1 MB)\n",
            "\u001b[2K   \u001b[90m━━━━━━━━━━━━━━━━━━━━━━━━━━━━━━━━━━━━━━━━\u001b[0m \u001b[32m2.1/2.1 MB\u001b[0m \u001b[31m24.3 MB/s\u001b[0m eta \u001b[36m0:00:00\u001b[0m\n",
            "\u001b[?25hDownloading salib-1.5.1-py3-none-any.whl (778 kB)\n",
            "\u001b[2K   \u001b[90m━━━━━━━━━━━━━━━━━━━━━━━━━━━━━━━━━━━━━━━━\u001b[0m \u001b[32m778.9/778.9 kB\u001b[0m \u001b[31m17.0 MB/s\u001b[0m eta \u001b[36m0:00:00\u001b[0m\n",
            "\u001b[?25hDownloading flask-3.0.3-py3-none-any.whl (101 kB)\n",
            "\u001b[2K   \u001b[90m━━━━━━━━━━━━━━━━━━━━━━━━━━━━━━━━━━━━━━━━\u001b[0m \u001b[32m101.7/101.7 kB\u001b[0m \u001b[31m4.4 MB/s\u001b[0m eta \u001b[36m0:00:00\u001b[0m\n",
            "\u001b[?25hDownloading jedi-0.19.2-py2.py3-none-any.whl (1.6 MB)\n",
            "\u001b[2K   \u001b[90m━━━━━━━━━━━━━━━━━━━━━━━━━━━━━━━━━━━━━━━━\u001b[0m \u001b[32m1.6/1.6 MB\u001b[0m \u001b[31m36.4 MB/s\u001b[0m eta \u001b[36m0:00:00\u001b[0m\n",
            "\u001b[?25hDownloading werkzeug-3.0.6-py3-none-any.whl (227 kB)\n",
            "\u001b[2K   \u001b[90m━━━━━━━━━━━━━━━━━━━━━━━━━━━━━━━━━━━━━━━━\u001b[0m \u001b[32m228.0/228.0 kB\u001b[0m \u001b[31m15.8 MB/s\u001b[0m eta \u001b[36m0:00:00\u001b[0m\n",
            "\u001b[?25hDownloading multiprocess-0.70.18-py311-none-any.whl (144 kB)\n",
            "\u001b[2K   \u001b[90m━━━━━━━━━━━━━━━━━━━━━━━━━━━━━━━━━━━━━━━━\u001b[0m \u001b[32m144.5/144.5 kB\u001b[0m \u001b[31m7.7 MB/s\u001b[0m eta \u001b[36m0:00:00\u001b[0m\n",
            "\u001b[?25hDownloading retrying-1.3.4-py3-none-any.whl (11 kB)\n",
            "Downloading zope.event-5.0-py3-none-any.whl (6.8 kB)\n",
            "Downloading zope.interface-7.2-cp311-cp311-manylinux_2_5_x86_64.manylinux1_x86_64.manylinux_2_17_x86_64.manylinux2014_x86_64.whl (259 kB)\n",
            "\u001b[2K   \u001b[90m━━━━━━━━━━━━━━━━━━━━━━━━━━━━━━━━━━━━━━━━\u001b[0m \u001b[32m259.8/259.8 kB\u001b[0m \u001b[31m16.2 MB/s\u001b[0m eta \u001b[36m0:00:00\u001b[0m\n",
            "\u001b[?25hBuilding wheels for collected packages: dash-cytoscape\n",
            "  Building wheel for dash-cytoscape (setup.py) ... \u001b[?25l\u001b[?25hdone\n",
            "  Created wheel for dash-cytoscape: filename=dash_cytoscape-1.0.2-py3-none-any.whl size=4010717 sha256=e9a490965e6ddcc9d9065b3c0b2f93362f291644f59529434ba24e102e4d119e\n",
            "  Stored in directory: /root/.cache/pip/wheels/99/b1/ab/6c999ab288b4849d372e23c0a8f6ece7edb7ffeb8c97959ab0\n",
            "Successfully built dash-cytoscape\n",
            "Installing collected packages: dash-table, dash-html-components, dash-core-components, zope.interface, zope.event, Werkzeug, retrying, jedi, dill, aplr, multiprocess, gevent, Flask, SALib, interpret-core, dash, dash-cytoscape, interpret\n",
            "  Attempting uninstall: Werkzeug\n",
            "    Found existing installation: Werkzeug 3.1.3\n",
            "    Uninstalling Werkzeug-3.1.3:\n",
            "      Successfully uninstalled Werkzeug-3.1.3\n",
            "  Attempting uninstall: Flask\n",
            "    Found existing installation: Flask 3.1.0\n",
            "    Uninstalling Flask-3.1.0:\n",
            "      Successfully uninstalled Flask-3.1.0\n",
            "Successfully installed Flask-3.0.3 SALib-1.5.1 Werkzeug-3.0.6 aplr-10.9.0 dash-2.18.2 dash-core-components-2.0.0 dash-cytoscape-1.0.2 dash-html-components-2.0.0 dash-table-5.0.0 dill-0.4.0 gevent-25.4.2 interpret-0.6.10 interpret-core-0.6.10 jedi-0.19.2 multiprocess-0.70.18 retrying-1.3.4 zope.event-5.0 zope.interface-7.2\n"
          ]
        }
      ]
    },
    {
      "cell_type": "code",
      "execution_count": null,
      "id": "4baedf75",
      "metadata": {
        "scrolled": true,
        "id": "4baedf75"
      },
      "outputs": [],
      "source": [
        "import datetime                                               # timestamp for submission file\n",
        "from interpret.glassbox import ExplainableBoostingClassifier  # interpret ebm class\n",
        "from interpret.perf import ROC                                # ROC measure for ebm\n",
        "import itertools                                              # for cartesian product of parameters\n",
        "import matplotlib.pyplot as plt                               # for plots\n",
        "import numpy as np                                            # for basic array manipulation\n",
        "import pandas as pd                                           # for dataframe manipulation\n",
        "import random                                                 # to sample from lists\n",
        "from sklearn.metrics import accuracy_score, f1_score          # for selecting model cutoffs\n",
        "import time                                                   # for timers\n",
        "\n",
        "# set numpy random seed for better reproducibility\n",
        "SEED = 12345\n",
        "np.random.seed(SEED)\n",
        "\n",
        "# set number of threads\n",
        "NTHREAD = 4"
      ]
    },
    {
      "cell_type": "markdown",
      "id": "71a7b83c",
      "metadata": {
        "id": "71a7b83c"
      },
      "source": [
        "### Define utility functions"
      ]
    },
    {
      "cell_type": "markdown",
      "id": "b57123eb",
      "metadata": {
        "id": "b57123eb"
      },
      "source": [
        "#### Utility function to calculate confusion matrices by demographic group"
      ]
    },
    {
      "cell_type": "code",
      "execution_count": null,
      "id": "8f26980c",
      "metadata": {
        "id": "8f26980c"
      },
      "outputs": [],
      "source": [
        "def get_confusion_matrix(frame, y, yhat, by=None, level=None, cutoff=0.5, verbose=True):\n",
        "\n",
        "    \"\"\" Creates confusion matrix from pandas dataframe of y and yhat values, can be sliced\n",
        "        by a variable and level.\n",
        "\n",
        "        :param frame: Pandas dataframe of actual (y) and predicted (yhat) values.\n",
        "        :param y: Name of actual value column.\n",
        "        :param yhat: Name of predicted value column.\n",
        "        :param by: By variable to slice frame before creating confusion matrix, default None.\n",
        "        :param level: Value of by variable to slice frame before creating confusion matrix, default None.\n",
        "        :param cutoff: Cutoff threshold for confusion matrix, default 0.5.\n",
        "        :param verbose: Whether to print confusion matrix titles, default True.\n",
        "        :return: Confusion matrix as pandas dataframe.\n",
        "\n",
        "    \"\"\"\n",
        "\n",
        "    # determine levels of target (y) variable\n",
        "    # sort for consistency\n",
        "    level_list = list(frame[y].unique())\n",
        "    level_list.sort(reverse=True)\n",
        "\n",
        "    # init confusion matrix\n",
        "    cm_frame = pd.DataFrame(columns=['actual: ' +  str(i) for i in level_list],\n",
        "                            index=['predicted: ' + str(i) for i in level_list])\n",
        "\n",
        "    # don't destroy original data\n",
        "    frame_ = frame.copy(deep=True)\n",
        "\n",
        "    # convert numeric predictions to binary decisions using cutoff\n",
        "    dname = 'd_' + str(y)\n",
        "    frame_[dname] = np.where(frame_[yhat] > cutoff , 1, 0)\n",
        "\n",
        "    # slice frame\n",
        "    if (by is not None) & (level is not None):\n",
        "        frame_ = frame_[frame[by] == level]\n",
        "\n",
        "    # calculate size of each confusion matrix value\n",
        "    for i, lev_i in enumerate(level_list):\n",
        "        for j, lev_j in enumerate(level_list):\n",
        "            cm_frame.iat[j, i] = frame_[(frame_[y] == lev_i) & (frame_[dname] == lev_j)].shape[0]\n",
        "            # i, j vs. j, i nasty little bug ... updated 8/30/19\n",
        "\n",
        "    # output results\n",
        "    if verbose:\n",
        "        if by is None:\n",
        "            print('Confusion matrix:')\n",
        "        else:\n",
        "            print('Confusion matrix by ' + by + '=' + str(level))\n",
        "\n",
        "    return cm_frame"
      ]
    },
    {
      "cell_type": "markdown",
      "id": "cfe58fec",
      "metadata": {
        "id": "cfe58fec"
      },
      "source": [
        "#### Utility function to calculate AIR"
      ]
    },
    {
      "cell_type": "code",
      "execution_count": null,
      "id": "d85757d4",
      "metadata": {
        "id": "d85757d4"
      },
      "outputs": [],
      "source": [
        "def air(cm_dict, reference_key, protected_key, verbose=True):\n",
        "\n",
        "    \"\"\" Calculates the adverse impact ratio as a quotient between protected and\n",
        "        reference group acceptance rates: protected_prop/reference_prop.\n",
        "        Optionally prints intermediate values. ASSUMES 0 IS \"POSITIVE\" OUTCOME!\n",
        "\n",
        "        :param cm_dict: Dictionary of demographic group confusion matrices.\n",
        "        :param reference_key: Name of reference group in cm_dict as a string.\n",
        "        :param protected_key: Name of protected group in cm_dict as a string.\n",
        "        :param verbose: Whether to print intermediate acceptance rates, default True.\n",
        "        :return: AIR.\n",
        "\n",
        "    \"\"\"\n",
        "\n",
        "    eps = 1e-20 # numeric stability and divide by 0 protection\n",
        "\n",
        "    # reference group summary\n",
        "    reference_accepted = float(cm_dict[reference_key].iat[1,0] + cm_dict[reference_key].iat[1,1]) # predicted 0's\n",
        "    reference_total = float(cm_dict[reference_key].sum().sum())\n",
        "    reference_prop = reference_accepted/reference_total\n",
        "    if verbose:\n",
        "        print(reference_key.title() + ' proportion accepted: %.3f' % reference_prop)\n",
        "\n",
        "    # protected group summary\n",
        "    protected_accepted = float(cm_dict[protected_key].iat[1,0] + cm_dict[protected_key].iat[1,1]) # predicted 0's\n",
        "    protected_total = float(cm_dict[protected_key].sum().sum())\n",
        "    protected_prop = protected_accepted/protected_total\n",
        "    if verbose:\n",
        "        print(protected_key.title() + ' proportion accepted: %.3f' % protected_prop)\n",
        "\n",
        "    # return adverse impact ratio\n",
        "    if np.isclose(protected_accepted, 0.0):\n",
        "        return np.nan\n",
        "    else:\n",
        "        return ((protected_prop + eps)/(reference_prop + eps))\n"
      ]
    },
    {
      "cell_type": "markdown",
      "id": "7dc9e851",
      "metadata": {
        "id": "7dc9e851"
      },
      "source": [
        "#### Utility function to select probability cutoff by F1"
      ]
    },
    {
      "cell_type": "code",
      "execution_count": null,
      "id": "7e6e5033",
      "metadata": {
        "id": "7e6e5033"
      },
      "outputs": [],
      "source": [
        "def get_max_f1_frame(frame, y, yhat, res=0.01, air_reference=None, air_protected=None, verbose=False):\n",
        "\n",
        "    \"\"\" Utility function for finding max. F1.\n",
        "        Coupled to get_confusion_matrix() and air().\n",
        "        Assumes 1 is the marker for class membership.\n",
        "\n",
        "        :param frame: Pandas dataframe of actual (y) and predicted (yhat) values.\n",
        "        :param y: Known y values.\n",
        "        :param yhat: Model scores.\n",
        "        :param res: Resolution over which to search for max. F1, default 0.01.\n",
        "        :param air_reference: Reference group for AIR calculation, optional.\n",
        "        :param air_protected: Protected group for AIR calculation, optional.\n",
        "        :return: Pandas DataFrame of cutoffs to select from.\n",
        "\n",
        "    \"\"\"\n",
        "\n",
        "    do_air = all(v is not None for v in [air_reference, air_protected])\n",
        "\n",
        "    # init frame to store f1 at different cutoffs\n",
        "    if do_air:\n",
        "        columns = ['cut', 'f1', 'acc', 'air']\n",
        "    else:\n",
        "        columns = ['cut', 'f1', 'acc']\n",
        "    f1_frame = pd.DataFrame(columns=['cut', 'f1', 'acc'])\n",
        "\n",
        "    # copy known y and score values into a temporary frame\n",
        "    temp_df = frame[[y, yhat]].copy(deep=True)\n",
        "\n",
        "    # find f1 at different cutoffs and store in acc_frame\n",
        "    for i, cut in enumerate(np.arange(0, 1 + res, res)):\n",
        "        temp_df['decision'] = np.where(temp_df.iloc[:, 1] > cut, 1, 0)\n",
        "        f1 = f1_score(temp_df.iloc[:, 0], temp_df['decision'])\n",
        "        acc = accuracy_score(temp_df.iloc[:, 0], temp_df['decision'])\n",
        "        row_dict = {'cut': cut, 'f1': f1, 'acc': acc}\n",
        "        if do_air:\n",
        "            # conditionally calculate AIR\n",
        "            cm_ref = get_confusion_matrix(frame, y, yhat, by=air_reference, level=1, cutoff=cut, verbose=verbose)\n",
        "            cm_pro = get_confusion_matrix(frame, y, yhat, by=air_protected, level=1, cutoff=cut, verbose=verbose)\n",
        "            air_ = air({air_reference: cm_ref, air_protected: cm_pro}, air_reference, air_protected, verbose=verbose)\n",
        "            row_dict['air'] = air_\n",
        "\n",
        "        f1_frame = pd.concat([f1_frame, pd.DataFrame(row_dict, index=[i])], axis=0)\n",
        "\n",
        "    del temp_df\n",
        "\n",
        "    return f1_frame"
      ]
    },
    {
      "cell_type": "markdown",
      "id": "223b7489",
      "metadata": {
        "id": "223b7489"
      },
      "source": [
        "#### Utility function for random grid search"
      ]
    },
    {
      "cell_type": "code",
      "execution_count": null,
      "id": "9da92af1",
      "metadata": {
        "id": "9da92af1"
      },
      "outputs": [],
      "source": [
        "def ebm_grid(train, valid, x_names, y_name, gs_params=None, n_models=None, early_stopping_rounds=None, seed=None,\n",
        "             air_reference=None, air_protected=None, air_cut=None, verbose=False):\n",
        "\n",
        "    \"\"\" Performs a random grid search over n_models and gs_params.\n",
        "        Optionally considers random feature sets and AIR.\n",
        "        Coupled to get_confusion_matrix() and air().\n",
        "\n",
        "    :param train: Training data as Pandas DataFrame.\n",
        "    :param valid: Validation data as Pandas DataFrame.\n",
        "    :param x_names: Names of input features.\n",
        "    :param y_name: Name of target feature.\n",
        "    :param gs_params: Dictionary of lists of potential EBM parameters over which to search.\n",
        "    :param n_models: Number of random models to evaluate.\n",
        "    :param early_stopping_rounds: EBM early stopping rounds.\n",
        "    :param seed: Random seed for better interpretability.\n",
        "    :param air_reference: Reference group for AIR calculation, optional.\n",
        "    :param air_protected: Protected group for AIR calculation, optional.\n",
        "    :param air_cut: Cutoff for AIR calculation, optional.\n",
        "    :param verbose: Whether to print intermediate acceptance rates, default False.\n",
        "    :return: Tuple: (Best EBM model, Pandas DataFrame of models to select from)\n",
        "\n",
        "    \"\"\"\n",
        "\n",
        "    # init returned frame\n",
        "    do_air = all(v is not None for v in [air_reference, air_protected])\n",
        "    if do_air:\n",
        "        columns = list(gs_params.keys()) + ['features', 'auc', 'air']\n",
        "    else:\n",
        "        columns = list(gs_params.keys()) + ['auc']\n",
        "    ebm_grid_frame = pd.DataFrame(columns=columns)\n",
        "\n",
        "    # cartesian product of gs_params\n",
        "    keys, values = zip(*gs_params.items())\n",
        "    experiments = [dict(zip(keys, v)) for v in itertools.product(*values)]\n",
        "\n",
        "    # preserve exact reproducibility for this function\n",
        "    np.random.seed(SEED)\n",
        "\n",
        "    # select randomly from cartesian product space\n",
        "    selected_experiments = np.random.choice(len(experiments), n_models)\n",
        "\n",
        "    # set global params for seed, etc.\n",
        "    params = {'n_jobs': NTHREAD,\n",
        "              'early_stopping_rounds': early_stopping_rounds,\n",
        "              'random_state': SEED}\n",
        "\n",
        "    # init grid search loop\n",
        "    best_candidate = None\n",
        "    best_score = 0\n",
        "\n",
        "    # grid search loop\n",
        "    for i, exp in enumerate(selected_experiments):\n",
        "\n",
        "        params.update(experiments[exp])  # override global params with current grid run params\n",
        "\n",
        "        print('Grid search run %d/%d:' % (int(i + 1), int(n_models)))\n",
        "        print('Training with parameters:', params)\n",
        "\n",
        "        # train\n",
        "        ebm = ExplainableBoostingClassifier(**params)\n",
        "\n",
        "        # conditionally select random features\n",
        "        features = x_names\n",
        "        if do_air:\n",
        "            n_features = random.randrange(len(x_names)) + 1\n",
        "            features = random.sample(x_names, n_features)\n",
        "        candidate = ebm.fit(train[features], train[y_name])\n",
        "\n",
        "        # calculate AUC\n",
        "        ebm_perf = ROC(ebm.predict_proba).explain_perf(valid[features], valid[y_name])\n",
        "        candidate_best_score = ebm_perf._internal_obj['overall']['auc']\n",
        "\n",
        "        # compose values to add to ebm_grid_frame\n",
        "        row_dict = params.copy()\n",
        "        row_dict['auc'] = candidate_best_score\n",
        "        if do_air:\n",
        "            # collect random feature set\n",
        "            row_dict['features'] = features\n",
        "            # conditionally calculate AIR\n",
        "            valid_phat = valid.copy(deep=True)\n",
        "            valid_phat['phat'] = candidate.predict_proba(valid[features])[:, 1]\n",
        "            cm_ref = get_confusion_matrix(valid_phat, y_name, 'phat', by=air_reference, level=1, cutoff=air_cut, verbose=verbose)\n",
        "            cm_pro = get_confusion_matrix(valid_phat, y_name, 'phat', by=air_protected, level=1, cutoff=air_cut, verbose=verbose)\n",
        "            air_ = air({air_reference: cm_ref, air_protected: cm_pro}, air_reference, air_protected, verbose=verbose)\n",
        "            row_dict['air'] = air_\n",
        "            row_dict['features'] = ', '.join(row_dict['features'])\n",
        "            del valid_phat\n",
        "\n",
        "        # append run to ebm_grid_frame\n",
        "        ebm_grid_frame = pd.concat([ebm_grid_frame, pd.DataFrame(row_dict, index=[i])], axis=0)\n",
        "\n",
        "        # determine if current model is better than previous best\n",
        "        if candidate_best_score > best_score:\n",
        "            best_score = candidate_best_score\n",
        "            best_ebm = candidate\n",
        "            print('Grid search new best score discovered at iteration %d/%d: %.4f.' %\n",
        "                             (int(i + 1), int(n_models), candidate_best_score))\n",
        "\n",
        "        print('---------- ----------')\n",
        "\n",
        "        del row_dict\n",
        "        del ebm\n",
        "\n",
        "    return best_ebm, ebm_grid_frame"
      ]
    },
    {
      "cell_type": "markdown",
      "id": "152e8474",
      "metadata": {
        "id": "152e8474"
      },
      "source": [
        "#### Start global timer"
      ]
    },
    {
      "cell_type": "code",
      "execution_count": null,
      "id": "110ae3e4",
      "metadata": {
        "id": "110ae3e4"
      },
      "outputs": [],
      "source": [
        "tic = time.time()"
      ]
    },
    {
      "cell_type": "markdown",
      "id": "e36c81fd",
      "metadata": {
        "id": "e36c81fd"
      },
      "source": [
        "#### Import data"
      ]
    },
    {
      "cell_type": "code",
      "source": [
        "from google.colab import drive\n",
        "drive.mount('/content/drive/', force_remount=True)\n",
        "# may need to be updated to location on your drive\n",
        "%cd drive/My\\ Drive/DNSC_6330_Software/"
      ],
      "metadata": {
        "colab": {
          "base_uri": "https://localhost:8080/"
        },
        "id": "RRFlSPXFsM-k",
        "outputId": "c24dfda1-7a66-46d1-e472-49e80f044901"
      },
      "id": "RRFlSPXFsM-k",
      "execution_count": null,
      "outputs": [
        {
          "output_type": "stream",
          "name": "stdout",
          "text": [
            "Mounted at /content/drive/\n",
            "/content/drive/My Drive/DNSC_6330_Software\n"
          ]
        }
      ]
    },
    {
      "cell_type": "code",
      "execution_count": null,
      "id": "36898e3f",
      "metadata": {
        "id": "36898e3f"
      },
      "outputs": [],
      "source": [
        "import pandas as pd\n",
        "\n",
        "data = pd.read_csv('/content/drive/MyDrive/DNSC_6330_Software/data/hmda_train_preprocessed.csv')\n",
        "test = pd.read_csv('/content/drive/MyDrive/DNSC_6330_Software/data/hmda_test_preprocessed.csv')\n"
      ]
    },
    {
      "cell_type": "markdown",
      "id": "02f780ca",
      "metadata": {
        "id": "02f780ca"
      },
      "source": [
        "#### Assign basic modeling roles"
      ]
    },
    {
      "cell_type": "code",
      "execution_count": null,
      "id": "374364cd",
      "metadata": {
        "id": "374364cd"
      },
      "outputs": [],
      "source": [
        "y_name = 'high_priced'\n",
        "x_names = ['term_360', 'conforming', 'debt_to_income_ratio_missing', 'loan_amount_std', 'loan_to_value_ratio_std', 'no_intro_rate_period_std',\n",
        "           'intro_rate_period_std', 'property_value_std', 'income_std', 'debt_to_income_ratio_std']"
      ]
    },
    {
      "cell_type": "markdown",
      "id": "2bd91ac7",
      "metadata": {
        "id": "2bd91ac7"
      },
      "source": [
        "## Fit interpretable model"
      ]
    },
    {
      "cell_type": "markdown",
      "id": "b63c7465",
      "metadata": {
        "id": "b63c7465"
      },
      "source": [
        "#### Split data into train and validation partitions"
      ]
    },
    {
      "cell_type": "code",
      "execution_count": null,
      "id": "d82faabc",
      "metadata": {
        "colab": {
          "base_uri": "https://localhost:8080/"
        },
        "id": "d82faabc",
        "outputId": "7fa634e8-7189-4a22-ceb8-28321dc45f97"
      },
      "outputs": [
        {
          "output_type": "stream",
          "name": "stdout",
          "text": [
            "Train data rows = 112253, columns = 23\n",
            "Validation data rows = 48085, columns = 23\n"
          ]
        }
      ],
      "source": [
        "np.random.seed(SEED) # preserve exact reproducibility for this cell\n",
        "\n",
        "split_ratio = 0.7 # 70%/30% train/test split\n",
        "\n",
        "# execute split\n",
        "split = np.random.rand(len(data)) < split_ratio\n",
        "train = data[split]\n",
        "valid = data[~split]\n",
        "\n",
        "# summarize split\n",
        "print('Train data rows = %d, columns = %d' % (train.shape[0], train.shape[1]))\n",
        "print('Validation data rows = %d, columns = %d' % (valid.shape[0], valid.shape[1]))\n",
        "\n",
        "# benchmark - Train data rows = 112253, columns = 23\n",
        "# benchmark - Validation data rows = 48085, columns = 23"
      ]
    },
    {
      "cell_type": "markdown",
      "id": "348b7fb0",
      "metadata": {
        "id": "348b7fb0"
      },
      "source": [
        "### Explainable Boosting Machine"
      ]
    },
    {
      "cell_type": "code",
      "source": [
        "best_params = {'n_jobs': 4,\n",
        "               'early_stopping_rounds': 100,\n",
        "               'random_state': 12345,\n",
        "               'max_bins': 512,\n",
        "               'max_interaction_bins': 64,\n",
        "               'interactions': 15,\n",
        "               'outer_bags': 4,\n",
        "               'inner_bags': 0,\n",
        "               'learning_rate': 0.05,\n",
        "               'validation_size': 0.1,\n",
        "               'min_samples_leaf': 10,\n",
        "               'max_leaves': 3} # params from assignment 1\n",
        "\n",
        "for p in best_params.keys():\n",
        "  if p not in ['learning_rate', 'validation_size']:\n",
        "    best_params[p] = int(best_params[p])\n",
        "\n",
        "# retrain\n",
        "best_ebm = ExplainableBoostingClassifier(**best_params)\n",
        "best_ebm.fit(train[x_names], train[y_name]) # no feature selection for best_ebm\n",
        "best_ebm_perf = ROC(best_ebm.predict_proba).explain_perf(valid[x_names], valid[y_name])\n",
        "best_auc = best_ebm_perf._internal_obj['overall']['auc']\n",
        "print('Remediated EBM retrained with AUC: %.4f.' % best_auc)"
      ],
      "metadata": {
        "colab": {
          "base_uri": "https://localhost:8080/"
        },
        "id": "M0yawa-TU0aO",
        "outputId": "4ff5dc48-0cb4-4b5c-fab4-ca6f85531ed4"
      },
      "id": "M0yawa-TU0aO",
      "execution_count": null,
      "outputs": [
        {
          "output_type": "stream",
          "name": "stdout",
          "text": [
            "Remediated EBM retrained with AUC: 0.8250.\n"
          ]
        }
      ]
    },
    {
      "cell_type": "markdown",
      "id": "0248d5c2",
      "metadata": {
        "id": "0248d5c2"
      },
      "source": [
        "#### Basic AUC assessment"
      ]
    },
    {
      "cell_type": "code",
      "execution_count": null,
      "id": "cd8c96fb",
      "metadata": {
        "colab": {
          "base_uri": "https://localhost:8080/"
        },
        "id": "cd8c96fb",
        "outputId": "9d03e0e1-a283-4bb5-f2c9-2bc25e5bd37c"
      },
      "outputs": [
        {
          "output_type": "stream",
          "name": "stdout",
          "text": [
            "Validation AUC: 0.8250.\n"
          ]
        }
      ],
      "source": [
        "best_ebm_perf = ROC(best_ebm.predict_proba).explain_perf(valid[x_names], valid[y_name])\n",
        "print('Validation AUC: %.4f.' % best_ebm_perf._internal_obj['overall']['auc'])"
      ]
    },
    {
      "cell_type": "markdown",
      "id": "e2814a0a",
      "metadata": {
        "id": "e2814a0a"
      },
      "source": [
        "#### Score validation data with model"
      ]
    },
    {
      "cell_type": "code",
      "execution_count": null,
      "id": "5f39bae7",
      "metadata": {
        "colab": {
          "base_uri": "https://localhost:8080/",
          "height": 256
        },
        "id": "5f39bae7",
        "outputId": "7b360b25-c3be-4683-8fec-21b299b484a0"
      },
      "outputs": [
        {
          "output_type": "execute_result",
          "data": {
            "text/plain": [
              "   row_id  black  asian  white  amind  hipac  hispanic  non_hispanic  male  \\\n",
              "0       0    NaN    NaN    NaN    NaN    NaN       NaN           NaN   1.0   \n",
              "1       6    0.0    0.0    1.0    0.0    0.0       0.0           1.0   0.0   \n",
              "2       8    0.0    0.0    1.0    0.0    0.0       0.0           1.0   NaN   \n",
              "3      10    0.0    0.0    1.0    0.0    0.0       0.0           1.0   NaN   \n",
              "4      11    0.0    0.0    1.0    0.0    0.0       1.0           0.0   NaN   \n",
              "\n",
              "   female  ...  debt_to_income_ratio_missing  loan_amount_std  \\\n",
              "0     0.0  ...                             0        -0.514393   \n",
              "1     1.0  ...                             0        -0.426448   \n",
              "2     NaN  ...                             0         0.277109   \n",
              "3     NaN  ...                             0        -0.382476   \n",
              "4     NaN  ...                             0         0.101220   \n",
              "\n",
              "   loan_to_value_ratio_std  no_intro_rate_period_std  intro_rate_period_std  \\\n",
              "0                 0.333922                  0.244394              -0.215304   \n",
              "1                 0.355249                  0.244394              -0.215304   \n",
              "2                 0.142995                  0.244394              -0.215304   \n",
              "3                -0.240432                  0.244394              -0.215304   \n",
              "4                -0.266529                  0.244394              -0.215304   \n",
              "\n",
              "   property_value_std  income_std  debt_to_income_ratio_std  high_priced  \\\n",
              "0           -0.535932   -0.040307                  0.854601            0   \n",
              "1           -0.474263   -0.020904                  1.037419            0   \n",
              "2            0.111598   -0.019865                  0.031916            0   \n",
              "3           -0.320089   -0.028181                  0.946010            0   \n",
              "4            0.111598    0.016515                 -1.156406            0   \n",
              "\n",
              "       phat  \n",
              "0  0.157702  \n",
              "1  0.310921  \n",
              "2  0.025494  \n",
              "3  0.018255  \n",
              "4  0.003901  \n",
              "\n",
              "[5 rows x 24 columns]"
            ],
            "text/html": [
              "\n",
              "  <div id=\"df-16422f4b-3223-4336-ab64-7cb5d78a3b17\" class=\"colab-df-container\">\n",
              "    <div>\n",
              "<style scoped>\n",
              "    .dataframe tbody tr th:only-of-type {\n",
              "        vertical-align: middle;\n",
              "    }\n",
              "\n",
              "    .dataframe tbody tr th {\n",
              "        vertical-align: top;\n",
              "    }\n",
              "\n",
              "    .dataframe thead th {\n",
              "        text-align: right;\n",
              "    }\n",
              "</style>\n",
              "<table border=\"1\" class=\"dataframe\">\n",
              "  <thead>\n",
              "    <tr style=\"text-align: right;\">\n",
              "      <th></th>\n",
              "      <th>row_id</th>\n",
              "      <th>black</th>\n",
              "      <th>asian</th>\n",
              "      <th>white</th>\n",
              "      <th>amind</th>\n",
              "      <th>hipac</th>\n",
              "      <th>hispanic</th>\n",
              "      <th>non_hispanic</th>\n",
              "      <th>male</th>\n",
              "      <th>female</th>\n",
              "      <th>...</th>\n",
              "      <th>debt_to_income_ratio_missing</th>\n",
              "      <th>loan_amount_std</th>\n",
              "      <th>loan_to_value_ratio_std</th>\n",
              "      <th>no_intro_rate_period_std</th>\n",
              "      <th>intro_rate_period_std</th>\n",
              "      <th>property_value_std</th>\n",
              "      <th>income_std</th>\n",
              "      <th>debt_to_income_ratio_std</th>\n",
              "      <th>high_priced</th>\n",
              "      <th>phat</th>\n",
              "    </tr>\n",
              "  </thead>\n",
              "  <tbody>\n",
              "    <tr>\n",
              "      <th>0</th>\n",
              "      <td>0</td>\n",
              "      <td>NaN</td>\n",
              "      <td>NaN</td>\n",
              "      <td>NaN</td>\n",
              "      <td>NaN</td>\n",
              "      <td>NaN</td>\n",
              "      <td>NaN</td>\n",
              "      <td>NaN</td>\n",
              "      <td>1.0</td>\n",
              "      <td>0.0</td>\n",
              "      <td>...</td>\n",
              "      <td>0</td>\n",
              "      <td>-0.514393</td>\n",
              "      <td>0.333922</td>\n",
              "      <td>0.244394</td>\n",
              "      <td>-0.215304</td>\n",
              "      <td>-0.535932</td>\n",
              "      <td>-0.040307</td>\n",
              "      <td>0.854601</td>\n",
              "      <td>0</td>\n",
              "      <td>0.157702</td>\n",
              "    </tr>\n",
              "    <tr>\n",
              "      <th>1</th>\n",
              "      <td>6</td>\n",
              "      <td>0.0</td>\n",
              "      <td>0.0</td>\n",
              "      <td>1.0</td>\n",
              "      <td>0.0</td>\n",
              "      <td>0.0</td>\n",
              "      <td>0.0</td>\n",
              "      <td>1.0</td>\n",
              "      <td>0.0</td>\n",
              "      <td>1.0</td>\n",
              "      <td>...</td>\n",
              "      <td>0</td>\n",
              "      <td>-0.426448</td>\n",
              "      <td>0.355249</td>\n",
              "      <td>0.244394</td>\n",
              "      <td>-0.215304</td>\n",
              "      <td>-0.474263</td>\n",
              "      <td>-0.020904</td>\n",
              "      <td>1.037419</td>\n",
              "      <td>0</td>\n",
              "      <td>0.310921</td>\n",
              "    </tr>\n",
              "    <tr>\n",
              "      <th>2</th>\n",
              "      <td>8</td>\n",
              "      <td>0.0</td>\n",
              "      <td>0.0</td>\n",
              "      <td>1.0</td>\n",
              "      <td>0.0</td>\n",
              "      <td>0.0</td>\n",
              "      <td>0.0</td>\n",
              "      <td>1.0</td>\n",
              "      <td>NaN</td>\n",
              "      <td>NaN</td>\n",
              "      <td>...</td>\n",
              "      <td>0</td>\n",
              "      <td>0.277109</td>\n",
              "      <td>0.142995</td>\n",
              "      <td>0.244394</td>\n",
              "      <td>-0.215304</td>\n",
              "      <td>0.111598</td>\n",
              "      <td>-0.019865</td>\n",
              "      <td>0.031916</td>\n",
              "      <td>0</td>\n",
              "      <td>0.025494</td>\n",
              "    </tr>\n",
              "    <tr>\n",
              "      <th>3</th>\n",
              "      <td>10</td>\n",
              "      <td>0.0</td>\n",
              "      <td>0.0</td>\n",
              "      <td>1.0</td>\n",
              "      <td>0.0</td>\n",
              "      <td>0.0</td>\n",
              "      <td>0.0</td>\n",
              "      <td>1.0</td>\n",
              "      <td>NaN</td>\n",
              "      <td>NaN</td>\n",
              "      <td>...</td>\n",
              "      <td>0</td>\n",
              "      <td>-0.382476</td>\n",
              "      <td>-0.240432</td>\n",
              "      <td>0.244394</td>\n",
              "      <td>-0.215304</td>\n",
              "      <td>-0.320089</td>\n",
              "      <td>-0.028181</td>\n",
              "      <td>0.946010</td>\n",
              "      <td>0</td>\n",
              "      <td>0.018255</td>\n",
              "    </tr>\n",
              "    <tr>\n",
              "      <th>4</th>\n",
              "      <td>11</td>\n",
              "      <td>0.0</td>\n",
              "      <td>0.0</td>\n",
              "      <td>1.0</td>\n",
              "      <td>0.0</td>\n",
              "      <td>0.0</td>\n",
              "      <td>1.0</td>\n",
              "      <td>0.0</td>\n",
              "      <td>NaN</td>\n",
              "      <td>NaN</td>\n",
              "      <td>...</td>\n",
              "      <td>0</td>\n",
              "      <td>0.101220</td>\n",
              "      <td>-0.266529</td>\n",
              "      <td>0.244394</td>\n",
              "      <td>-0.215304</td>\n",
              "      <td>0.111598</td>\n",
              "      <td>0.016515</td>\n",
              "      <td>-1.156406</td>\n",
              "      <td>0</td>\n",
              "      <td>0.003901</td>\n",
              "    </tr>\n",
              "  </tbody>\n",
              "</table>\n",
              "<p>5 rows × 24 columns</p>\n",
              "</div>\n",
              "    <div class=\"colab-df-buttons\">\n",
              "\n",
              "  <div class=\"colab-df-container\">\n",
              "    <button class=\"colab-df-convert\" onclick=\"convertToInteractive('df-16422f4b-3223-4336-ab64-7cb5d78a3b17')\"\n",
              "            title=\"Convert this dataframe to an interactive table.\"\n",
              "            style=\"display:none;\">\n",
              "\n",
              "  <svg xmlns=\"http://www.w3.org/2000/svg\" height=\"24px\" viewBox=\"0 -960 960 960\">\n",
              "    <path d=\"M120-120v-720h720v720H120Zm60-500h600v-160H180v160Zm220 220h160v-160H400v160Zm0 220h160v-160H400v160ZM180-400h160v-160H180v160Zm440 0h160v-160H620v160ZM180-180h160v-160H180v160Zm440 0h160v-160H620v160Z\"/>\n",
              "  </svg>\n",
              "    </button>\n",
              "\n",
              "  <style>\n",
              "    .colab-df-container {\n",
              "      display:flex;\n",
              "      gap: 12px;\n",
              "    }\n",
              "\n",
              "    .colab-df-convert {\n",
              "      background-color: #E8F0FE;\n",
              "      border: none;\n",
              "      border-radius: 50%;\n",
              "      cursor: pointer;\n",
              "      display: none;\n",
              "      fill: #1967D2;\n",
              "      height: 32px;\n",
              "      padding: 0 0 0 0;\n",
              "      width: 32px;\n",
              "    }\n",
              "\n",
              "    .colab-df-convert:hover {\n",
              "      background-color: #E2EBFA;\n",
              "      box-shadow: 0px 1px 2px rgba(60, 64, 67, 0.3), 0px 1px 3px 1px rgba(60, 64, 67, 0.15);\n",
              "      fill: #174EA6;\n",
              "    }\n",
              "\n",
              "    .colab-df-buttons div {\n",
              "      margin-bottom: 4px;\n",
              "    }\n",
              "\n",
              "    [theme=dark] .colab-df-convert {\n",
              "      background-color: #3B4455;\n",
              "      fill: #D2E3FC;\n",
              "    }\n",
              "\n",
              "    [theme=dark] .colab-df-convert:hover {\n",
              "      background-color: #434B5C;\n",
              "      box-shadow: 0px 1px 3px 1px rgba(0, 0, 0, 0.15);\n",
              "      filter: drop-shadow(0px 1px 2px rgba(0, 0, 0, 0.3));\n",
              "      fill: #FFFFFF;\n",
              "    }\n",
              "  </style>\n",
              "\n",
              "    <script>\n",
              "      const buttonEl =\n",
              "        document.querySelector('#df-16422f4b-3223-4336-ab64-7cb5d78a3b17 button.colab-df-convert');\n",
              "      buttonEl.style.display =\n",
              "        google.colab.kernel.accessAllowed ? 'block' : 'none';\n",
              "\n",
              "      async function convertToInteractive(key) {\n",
              "        const element = document.querySelector('#df-16422f4b-3223-4336-ab64-7cb5d78a3b17');\n",
              "        const dataTable =\n",
              "          await google.colab.kernel.invokeFunction('convertToInteractive',\n",
              "                                                    [key], {});\n",
              "        if (!dataTable) return;\n",
              "\n",
              "        const docLinkHtml = 'Like what you see? Visit the ' +\n",
              "          '<a target=\"_blank\" href=https://colab.research.google.com/notebooks/data_table.ipynb>data table notebook</a>'\n",
              "          + ' to learn more about interactive tables.';\n",
              "        element.innerHTML = '';\n",
              "        dataTable['output_type'] = 'display_data';\n",
              "        await google.colab.output.renderOutput(dataTable, element);\n",
              "        const docLink = document.createElement('div');\n",
              "        docLink.innerHTML = docLinkHtml;\n",
              "        element.appendChild(docLink);\n",
              "      }\n",
              "    </script>\n",
              "  </div>\n",
              "\n",
              "\n",
              "    <div id=\"df-e03006c7-89dc-4249-a446-9abe7ab79a44\">\n",
              "      <button class=\"colab-df-quickchart\" onclick=\"quickchart('df-e03006c7-89dc-4249-a446-9abe7ab79a44')\"\n",
              "                title=\"Suggest charts\"\n",
              "                style=\"display:none;\">\n",
              "\n",
              "<svg xmlns=\"http://www.w3.org/2000/svg\" height=\"24px\"viewBox=\"0 0 24 24\"\n",
              "     width=\"24px\">\n",
              "    <g>\n",
              "        <path d=\"M19 3H5c-1.1 0-2 .9-2 2v14c0 1.1.9 2 2 2h14c1.1 0 2-.9 2-2V5c0-1.1-.9-2-2-2zM9 17H7v-7h2v7zm4 0h-2V7h2v10zm4 0h-2v-4h2v4z\"/>\n",
              "    </g>\n",
              "</svg>\n",
              "      </button>\n",
              "\n",
              "<style>\n",
              "  .colab-df-quickchart {\n",
              "      --bg-color: #E8F0FE;\n",
              "      --fill-color: #1967D2;\n",
              "      --hover-bg-color: #E2EBFA;\n",
              "      --hover-fill-color: #174EA6;\n",
              "      --disabled-fill-color: #AAA;\n",
              "      --disabled-bg-color: #DDD;\n",
              "  }\n",
              "\n",
              "  [theme=dark] .colab-df-quickchart {\n",
              "      --bg-color: #3B4455;\n",
              "      --fill-color: #D2E3FC;\n",
              "      --hover-bg-color: #434B5C;\n",
              "      --hover-fill-color: #FFFFFF;\n",
              "      --disabled-bg-color: #3B4455;\n",
              "      --disabled-fill-color: #666;\n",
              "  }\n",
              "\n",
              "  .colab-df-quickchart {\n",
              "    background-color: var(--bg-color);\n",
              "    border: none;\n",
              "    border-radius: 50%;\n",
              "    cursor: pointer;\n",
              "    display: none;\n",
              "    fill: var(--fill-color);\n",
              "    height: 32px;\n",
              "    padding: 0;\n",
              "    width: 32px;\n",
              "  }\n",
              "\n",
              "  .colab-df-quickchart:hover {\n",
              "    background-color: var(--hover-bg-color);\n",
              "    box-shadow: 0 1px 2px rgba(60, 64, 67, 0.3), 0 1px 3px 1px rgba(60, 64, 67, 0.15);\n",
              "    fill: var(--button-hover-fill-color);\n",
              "  }\n",
              "\n",
              "  .colab-df-quickchart-complete:disabled,\n",
              "  .colab-df-quickchart-complete:disabled:hover {\n",
              "    background-color: var(--disabled-bg-color);\n",
              "    fill: var(--disabled-fill-color);\n",
              "    box-shadow: none;\n",
              "  }\n",
              "\n",
              "  .colab-df-spinner {\n",
              "    border: 2px solid var(--fill-color);\n",
              "    border-color: transparent;\n",
              "    border-bottom-color: var(--fill-color);\n",
              "    animation:\n",
              "      spin 1s steps(1) infinite;\n",
              "  }\n",
              "\n",
              "  @keyframes spin {\n",
              "    0% {\n",
              "      border-color: transparent;\n",
              "      border-bottom-color: var(--fill-color);\n",
              "      border-left-color: var(--fill-color);\n",
              "    }\n",
              "    20% {\n",
              "      border-color: transparent;\n",
              "      border-left-color: var(--fill-color);\n",
              "      border-top-color: var(--fill-color);\n",
              "    }\n",
              "    30% {\n",
              "      border-color: transparent;\n",
              "      border-left-color: var(--fill-color);\n",
              "      border-top-color: var(--fill-color);\n",
              "      border-right-color: var(--fill-color);\n",
              "    }\n",
              "    40% {\n",
              "      border-color: transparent;\n",
              "      border-right-color: var(--fill-color);\n",
              "      border-top-color: var(--fill-color);\n",
              "    }\n",
              "    60% {\n",
              "      border-color: transparent;\n",
              "      border-right-color: var(--fill-color);\n",
              "    }\n",
              "    80% {\n",
              "      border-color: transparent;\n",
              "      border-right-color: var(--fill-color);\n",
              "      border-bottom-color: var(--fill-color);\n",
              "    }\n",
              "    90% {\n",
              "      border-color: transparent;\n",
              "      border-bottom-color: var(--fill-color);\n",
              "    }\n",
              "  }\n",
              "</style>\n",
              "\n",
              "      <script>\n",
              "        async function quickchart(key) {\n",
              "          const quickchartButtonEl =\n",
              "            document.querySelector('#' + key + ' button');\n",
              "          quickchartButtonEl.disabled = true;  // To prevent multiple clicks.\n",
              "          quickchartButtonEl.classList.add('colab-df-spinner');\n",
              "          try {\n",
              "            const charts = await google.colab.kernel.invokeFunction(\n",
              "                'suggestCharts', [key], {});\n",
              "          } catch (error) {\n",
              "            console.error('Error during call to suggestCharts:', error);\n",
              "          }\n",
              "          quickchartButtonEl.classList.remove('colab-df-spinner');\n",
              "          quickchartButtonEl.classList.add('colab-df-quickchart-complete');\n",
              "        }\n",
              "        (() => {\n",
              "          let quickchartButtonEl =\n",
              "            document.querySelector('#df-e03006c7-89dc-4249-a446-9abe7ab79a44 button');\n",
              "          quickchartButtonEl.style.display =\n",
              "            google.colab.kernel.accessAllowed ? 'block' : 'none';\n",
              "        })();\n",
              "      </script>\n",
              "    </div>\n",
              "\n",
              "    </div>\n",
              "  </div>\n"
            ],
            "application/vnd.google.colaboratory.intrinsic+json": {
              "type": "dataframe",
              "variable_name": "best_ebm_phat"
            }
          },
          "metadata": {},
          "execution_count": 15
        }
      ],
      "source": [
        "best_ebm_phat = pd.DataFrame(best_ebm.predict_proba(valid[x_names])[:, 1], columns=['phat'])\n",
        "best_ebm_phat = pd.concat([valid.reset_index(drop=True), best_ebm_phat], axis=1)\n",
        "best_ebm_phat.head()"
      ]
    },
    {
      "cell_type": "markdown",
      "id": "fc41221b",
      "metadata": {
        "id": "fc41221b"
      },
      "source": [
        "### Investigate Best Model (EBM) for Discrimination"
      ]
    },
    {
      "cell_type": "markdown",
      "id": "285242dd",
      "metadata": {
        "id": "285242dd"
      },
      "source": [
        "#### Find optimal cutoff based on F1\n",
        "Cutoffs are normally selected by maximizing a quality statistic or a business metric, and not by considering bias and discrimination."
      ]
    },
    {
      "cell_type": "code",
      "execution_count": null,
      "id": "bfd35817",
      "metadata": {
        "colab": {
          "base_uri": "https://localhost:8080/"
        },
        "id": "bfd35817",
        "outputId": "c871771a-fc11-4d28-cb27-68eb77f94ad4"
      },
      "outputs": [
        {
          "output_type": "stream",
          "name": "stderr",
          "text": [
            "<ipython-input-5-27fa63c62f51>:42: FutureWarning: The behavior of DataFrame concatenation with empty or all-NA entries is deprecated. In a future version, this will no longer exclude empty or all-NA columns when determining the result dtypes. To retain the old behavior, exclude the relevant entries before the concat operation.\n",
            "  f1_frame = pd.concat([f1_frame, pd.DataFrame(row_dict, index=[i])], axis=0)\n"
          ]
        },
        {
          "output_type": "stream",
          "name": "stdout",
          "text": [
            "      cut        f1       acc\n",
            "0    0.00  0.173860  0.095206\n",
            "1    0.01  0.233324  0.383072\n",
            "2    0.02  0.262274  0.478444\n",
            "3    0.03  0.280341  0.529666\n",
            "4    0.04  0.295747  0.569554\n",
            "..    ...       ...       ...\n",
            "96   0.96  0.000000  0.904773\n",
            "97   0.97  0.000000  0.904794\n",
            "98   0.98  0.000000  0.904794\n",
            "99   0.99  0.000000  0.904794\n",
            "100  1.00  0.000000  0.904794\n",
            "\n",
            "[101 rows x 3 columns]\n",
            "\n",
            "Best EBM F1: 0.3669 achieved at cutoff: 0.19 with accuracy: 0.8072.\n"
          ]
        }
      ],
      "source": [
        "f1_frame = get_max_f1_frame(best_ebm_phat, y_name, 'phat')\n",
        "\n",
        "print(f1_frame)\n",
        "print()\n",
        "\n",
        "max_f1 = f1_frame['f1'].max()\n",
        "best_cut = f1_frame.loc[int(f1_frame['f1'].idxmax()), 'cut'] #idxmax() returns the index of the maximum value\n",
        "acc = f1_frame.loc[int(f1_frame['f1'].idxmax()), 'acc']\n",
        "\n",
        "print('Best EBM F1: %.4f achieved at cutoff: %.2f with accuracy: %.4f.' % (max_f1, best_cut, acc))"
      ]
    },
    {
      "cell_type": "markdown",
      "id": "1bfdab39",
      "metadata": {
        "id": "1bfdab39"
      },
      "source": [
        "#### Find confusion matrices for demographic groups"
      ]
    },
    {
      "cell_type": "code",
      "execution_count": null,
      "id": "bd76cff9",
      "metadata": {
        "colab": {
          "base_uri": "https://localhost:8080/"
        },
        "id": "bd76cff9",
        "outputId": "90034eb7-2ff6-4920-c14f-d9786e636343"
      },
      "outputs": [
        {
          "output_type": "stream",
          "name": "stdout",
          "text": [
            "Confusion matrix by black=1\n",
            "             actual: 1 actual: 0\n",
            "predicted: 1       447       809\n",
            "predicted: 0       217      1719\n",
            "\n",
            "Confusion matrix by asian=1\n",
            "             actual: 1 actual: 0\n",
            "predicted: 1        94       161\n",
            "predicted: 0        54      2941\n",
            "\n",
            "Confusion matrix by white=1\n",
            "             actual: 1 actual: 0\n",
            "predicted: 1      1809      5461\n",
            "predicted: 0      1356     25899\n",
            "\n",
            "Confusion matrix by male=1\n",
            "             actual: 1 actual: 0\n",
            "predicted: 1       957      2771\n",
            "predicted: 0       707     11397\n",
            "\n",
            "Confusion matrix by female=1\n",
            "             actual: 1 actual: 0\n",
            "predicted: 1       792      1932\n",
            "predicted: 0       448      6860\n",
            "\n"
          ]
        }
      ],
      "source": [
        "demographic_group_names = ['black', 'asian', 'white', 'male', 'female']\n",
        "cm_dict = {}\n",
        "\n",
        "for name in demographic_group_names:\n",
        "    cm_dict[name] = get_confusion_matrix(best_ebm_phat, y_name, 'phat', by=name, level=1, cutoff=best_cut)\n",
        "    print(cm_dict[name])\n",
        "    print()"
      ]
    },
    {
      "cell_type": "markdown",
      "id": "b066473e",
      "metadata": {
        "id": "b066473e"
      },
      "source": [
        "#### Find AIR for Asian people"
      ]
    },
    {
      "cell_type": "code",
      "execution_count": null,
      "id": "045b6491",
      "metadata": {
        "scrolled": true,
        "colab": {
          "base_uri": "https://localhost:8080/"
        },
        "id": "045b6491",
        "outputId": "4e94318c-ce52-4b9c-8e38-30a6927aa6d4"
      },
      "outputs": [
        {
          "output_type": "stream",
          "name": "stdout",
          "text": [
            "White proportion accepted: 0.789\n",
            "Asian proportion accepted: 0.922\n",
            "Adverse impact ratio for Asian people vs. White people: 1.167\n"
          ]
        }
      ],
      "source": [
        "print('Adverse impact ratio for Asian people vs. White people: %.3f' % air(cm_dict, 'white', 'asian'))"
      ]
    },
    {
      "cell_type": "markdown",
      "id": "8ca4cfa2",
      "metadata": {
        "id": "8ca4cfa2"
      },
      "source": [
        "#### Find AIR for Black people"
      ]
    },
    {
      "cell_type": "code",
      "execution_count": null,
      "id": "1ced4480",
      "metadata": {
        "colab": {
          "base_uri": "https://localhost:8080/"
        },
        "id": "1ced4480",
        "outputId": "a90788f4-7530-4b93-8a87-65f3cbbcdc89"
      },
      "outputs": [
        {
          "output_type": "stream",
          "name": "stdout",
          "text": [
            "White proportion accepted: 0.789\n",
            "Black proportion accepted: 0.607\n",
            "Adverse impact ratio for Black people vs. White people: 0.768\n"
          ]
        }
      ],
      "source": [
        "print('Adverse impact ratio for Black people vs. White people: %.3f' % air(cm_dict, 'white', 'black'))"
      ]
    },
    {
      "cell_type": "markdown",
      "id": "dbfb2073",
      "metadata": {
        "id": "dbfb2073"
      },
      "source": [
        "#### Find AIR for Females"
      ]
    },
    {
      "cell_type": "code",
      "execution_count": null,
      "id": "6ae73a88",
      "metadata": {
        "colab": {
          "base_uri": "https://localhost:8080/"
        },
        "id": "6ae73a88",
        "outputId": "5ebf05ea-7356-494e-9172-0b55321819cf"
      },
      "outputs": [
        {
          "output_type": "stream",
          "name": "stdout",
          "text": [
            "Male proportion accepted: 0.765\n",
            "Female proportion accepted: 0.728\n",
            "Adverse impact ratio for Females vs. Males: 0.953\n"
          ]
        }
      ],
      "source": [
        "print('Adverse impact ratio for Females vs. Males: %.3f' % air(cm_dict, 'male', 'female'))"
      ]
    },
    {
      "cell_type": "markdown",
      "id": "a6b82e06",
      "metadata": {
        "id": "a6b82e06"
      },
      "source": [
        "### Attempt remediation of discovered discrimination"
      ]
    },
    {
      "cell_type": "markdown",
      "id": "e9ff1a02",
      "metadata": {
        "id": "e9ff1a02"
      },
      "source": [
        "#### Simplest remediation: Find cutoff with better Black vs. White AIR"
      ]
    },
    {
      "cell_type": "code",
      "execution_count": null,
      "id": "3389c88a",
      "metadata": {
        "colab": {
          "base_uri": "https://localhost:8080/",
          "height": 261
        },
        "id": "3389c88a",
        "outputId": "91a14593-1bb6-4472-bb85-e9f020e06155"
      },
      "outputs": [
        {
          "output_type": "stream",
          "name": "stderr",
          "text": [
            "<ipython-input-5-27fa63c62f51>:42: FutureWarning: The behavior of DataFrame concatenation with empty or all-NA entries is deprecated. In a future version, this will no longer exclude empty or all-NA columns when determining the result dtypes. To retain the old behavior, exclude the relevant entries before the concat operation.\n",
            "  f1_frame = pd.concat([f1_frame, pd.DataFrame(row_dict, index=[i])], axis=0)\n"
          ]
        },
        {
          "output_type": "execute_result",
          "data": {
            "text/plain": [
              "     cut        f1       acc       air\n",
              "21  0.21  0.362091  0.826703  0.806075\n",
              "22  0.22  0.356845  0.836352  0.824258\n",
              "23  0.23  0.347788  0.844234  0.844521\n",
              "24  0.24  0.339788  0.852511  0.863374\n",
              "25  0.25  0.333068  0.860580  0.876867"
            ],
            "text/html": [
              "\n",
              "  <div id=\"df-c7e71a2c-475d-4611-8569-64436d5afa60\" class=\"colab-df-container\">\n",
              "    <div>\n",
              "<style scoped>\n",
              "    .dataframe tbody tr th:only-of-type {\n",
              "        vertical-align: middle;\n",
              "    }\n",
              "\n",
              "    .dataframe tbody tr th {\n",
              "        vertical-align: top;\n",
              "    }\n",
              "\n",
              "    .dataframe thead th {\n",
              "        text-align: right;\n",
              "    }\n",
              "</style>\n",
              "<table border=\"1\" class=\"dataframe\">\n",
              "  <thead>\n",
              "    <tr style=\"text-align: right;\">\n",
              "      <th></th>\n",
              "      <th>cut</th>\n",
              "      <th>f1</th>\n",
              "      <th>acc</th>\n",
              "      <th>air</th>\n",
              "    </tr>\n",
              "  </thead>\n",
              "  <tbody>\n",
              "    <tr>\n",
              "      <th>21</th>\n",
              "      <td>0.21</td>\n",
              "      <td>0.362091</td>\n",
              "      <td>0.826703</td>\n",
              "      <td>0.806075</td>\n",
              "    </tr>\n",
              "    <tr>\n",
              "      <th>22</th>\n",
              "      <td>0.22</td>\n",
              "      <td>0.356845</td>\n",
              "      <td>0.836352</td>\n",
              "      <td>0.824258</td>\n",
              "    </tr>\n",
              "    <tr>\n",
              "      <th>23</th>\n",
              "      <td>0.23</td>\n",
              "      <td>0.347788</td>\n",
              "      <td>0.844234</td>\n",
              "      <td>0.844521</td>\n",
              "    </tr>\n",
              "    <tr>\n",
              "      <th>24</th>\n",
              "      <td>0.24</td>\n",
              "      <td>0.339788</td>\n",
              "      <td>0.852511</td>\n",
              "      <td>0.863374</td>\n",
              "    </tr>\n",
              "    <tr>\n",
              "      <th>25</th>\n",
              "      <td>0.25</td>\n",
              "      <td>0.333068</td>\n",
              "      <td>0.860580</td>\n",
              "      <td>0.876867</td>\n",
              "    </tr>\n",
              "  </tbody>\n",
              "</table>\n",
              "</div>\n",
              "    <div class=\"colab-df-buttons\">\n",
              "\n",
              "  <div class=\"colab-df-container\">\n",
              "    <button class=\"colab-df-convert\" onclick=\"convertToInteractive('df-c7e71a2c-475d-4611-8569-64436d5afa60')\"\n",
              "            title=\"Convert this dataframe to an interactive table.\"\n",
              "            style=\"display:none;\">\n",
              "\n",
              "  <svg xmlns=\"http://www.w3.org/2000/svg\" height=\"24px\" viewBox=\"0 -960 960 960\">\n",
              "    <path d=\"M120-120v-720h720v720H120Zm60-500h600v-160H180v160Zm220 220h160v-160H400v160Zm0 220h160v-160H400v160ZM180-400h160v-160H180v160Zm440 0h160v-160H620v160ZM180-180h160v-160H180v160Zm440 0h160v-160H620v160Z\"/>\n",
              "  </svg>\n",
              "    </button>\n",
              "\n",
              "  <style>\n",
              "    .colab-df-container {\n",
              "      display:flex;\n",
              "      gap: 12px;\n",
              "    }\n",
              "\n",
              "    .colab-df-convert {\n",
              "      background-color: #E8F0FE;\n",
              "      border: none;\n",
              "      border-radius: 50%;\n",
              "      cursor: pointer;\n",
              "      display: none;\n",
              "      fill: #1967D2;\n",
              "      height: 32px;\n",
              "      padding: 0 0 0 0;\n",
              "      width: 32px;\n",
              "    }\n",
              "\n",
              "    .colab-df-convert:hover {\n",
              "      background-color: #E2EBFA;\n",
              "      box-shadow: 0px 1px 2px rgba(60, 64, 67, 0.3), 0px 1px 3px 1px rgba(60, 64, 67, 0.15);\n",
              "      fill: #174EA6;\n",
              "    }\n",
              "\n",
              "    .colab-df-buttons div {\n",
              "      margin-bottom: 4px;\n",
              "    }\n",
              "\n",
              "    [theme=dark] .colab-df-convert {\n",
              "      background-color: #3B4455;\n",
              "      fill: #D2E3FC;\n",
              "    }\n",
              "\n",
              "    [theme=dark] .colab-df-convert:hover {\n",
              "      background-color: #434B5C;\n",
              "      box-shadow: 0px 1px 3px 1px rgba(0, 0, 0, 0.15);\n",
              "      filter: drop-shadow(0px 1px 2px rgba(0, 0, 0, 0.3));\n",
              "      fill: #FFFFFF;\n",
              "    }\n",
              "  </style>\n",
              "\n",
              "    <script>\n",
              "      const buttonEl =\n",
              "        document.querySelector('#df-c7e71a2c-475d-4611-8569-64436d5afa60 button.colab-df-convert');\n",
              "      buttonEl.style.display =\n",
              "        google.colab.kernel.accessAllowed ? 'block' : 'none';\n",
              "\n",
              "      async function convertToInteractive(key) {\n",
              "        const element = document.querySelector('#df-c7e71a2c-475d-4611-8569-64436d5afa60');\n",
              "        const dataTable =\n",
              "          await google.colab.kernel.invokeFunction('convertToInteractive',\n",
              "                                                    [key], {});\n",
              "        if (!dataTable) return;\n",
              "\n",
              "        const docLinkHtml = 'Like what you see? Visit the ' +\n",
              "          '<a target=\"_blank\" href=https://colab.research.google.com/notebooks/data_table.ipynb>data table notebook</a>'\n",
              "          + ' to learn more about interactive tables.';\n",
              "        element.innerHTML = '';\n",
              "        dataTable['output_type'] = 'display_data';\n",
              "        await google.colab.output.renderOutput(dataTable, element);\n",
              "        const docLink = document.createElement('div');\n",
              "        docLink.innerHTML = docLinkHtml;\n",
              "        element.appendChild(docLink);\n",
              "      }\n",
              "    </script>\n",
              "  </div>\n",
              "\n",
              "\n",
              "    <div id=\"df-a145c991-9e2c-4da3-bf27-195521afda9d\">\n",
              "      <button class=\"colab-df-quickchart\" onclick=\"quickchart('df-a145c991-9e2c-4da3-bf27-195521afda9d')\"\n",
              "                title=\"Suggest charts\"\n",
              "                style=\"display:none;\">\n",
              "\n",
              "<svg xmlns=\"http://www.w3.org/2000/svg\" height=\"24px\"viewBox=\"0 0 24 24\"\n",
              "     width=\"24px\">\n",
              "    <g>\n",
              "        <path d=\"M19 3H5c-1.1 0-2 .9-2 2v14c0 1.1.9 2 2 2h14c1.1 0 2-.9 2-2V5c0-1.1-.9-2-2-2zM9 17H7v-7h2v7zm4 0h-2V7h2v10zm4 0h-2v-4h2v4z\"/>\n",
              "    </g>\n",
              "</svg>\n",
              "      </button>\n",
              "\n",
              "<style>\n",
              "  .colab-df-quickchart {\n",
              "      --bg-color: #E8F0FE;\n",
              "      --fill-color: #1967D2;\n",
              "      --hover-bg-color: #E2EBFA;\n",
              "      --hover-fill-color: #174EA6;\n",
              "      --disabled-fill-color: #AAA;\n",
              "      --disabled-bg-color: #DDD;\n",
              "  }\n",
              "\n",
              "  [theme=dark] .colab-df-quickchart {\n",
              "      --bg-color: #3B4455;\n",
              "      --fill-color: #D2E3FC;\n",
              "      --hover-bg-color: #434B5C;\n",
              "      --hover-fill-color: #FFFFFF;\n",
              "      --disabled-bg-color: #3B4455;\n",
              "      --disabled-fill-color: #666;\n",
              "  }\n",
              "\n",
              "  .colab-df-quickchart {\n",
              "    background-color: var(--bg-color);\n",
              "    border: none;\n",
              "    border-radius: 50%;\n",
              "    cursor: pointer;\n",
              "    display: none;\n",
              "    fill: var(--fill-color);\n",
              "    height: 32px;\n",
              "    padding: 0;\n",
              "    width: 32px;\n",
              "  }\n",
              "\n",
              "  .colab-df-quickchart:hover {\n",
              "    background-color: var(--hover-bg-color);\n",
              "    box-shadow: 0 1px 2px rgba(60, 64, 67, 0.3), 0 1px 3px 1px rgba(60, 64, 67, 0.15);\n",
              "    fill: var(--button-hover-fill-color);\n",
              "  }\n",
              "\n",
              "  .colab-df-quickchart-complete:disabled,\n",
              "  .colab-df-quickchart-complete:disabled:hover {\n",
              "    background-color: var(--disabled-bg-color);\n",
              "    fill: var(--disabled-fill-color);\n",
              "    box-shadow: none;\n",
              "  }\n",
              "\n",
              "  .colab-df-spinner {\n",
              "    border: 2px solid var(--fill-color);\n",
              "    border-color: transparent;\n",
              "    border-bottom-color: var(--fill-color);\n",
              "    animation:\n",
              "      spin 1s steps(1) infinite;\n",
              "  }\n",
              "\n",
              "  @keyframes spin {\n",
              "    0% {\n",
              "      border-color: transparent;\n",
              "      border-bottom-color: var(--fill-color);\n",
              "      border-left-color: var(--fill-color);\n",
              "    }\n",
              "    20% {\n",
              "      border-color: transparent;\n",
              "      border-left-color: var(--fill-color);\n",
              "      border-top-color: var(--fill-color);\n",
              "    }\n",
              "    30% {\n",
              "      border-color: transparent;\n",
              "      border-left-color: var(--fill-color);\n",
              "      border-top-color: var(--fill-color);\n",
              "      border-right-color: var(--fill-color);\n",
              "    }\n",
              "    40% {\n",
              "      border-color: transparent;\n",
              "      border-right-color: var(--fill-color);\n",
              "      border-top-color: var(--fill-color);\n",
              "    }\n",
              "    60% {\n",
              "      border-color: transparent;\n",
              "      border-right-color: var(--fill-color);\n",
              "    }\n",
              "    80% {\n",
              "      border-color: transparent;\n",
              "      border-right-color: var(--fill-color);\n",
              "      border-bottom-color: var(--fill-color);\n",
              "    }\n",
              "    90% {\n",
              "      border-color: transparent;\n",
              "      border-bottom-color: var(--fill-color);\n",
              "    }\n",
              "  }\n",
              "</style>\n",
              "\n",
              "      <script>\n",
              "        async function quickchart(key) {\n",
              "          const quickchartButtonEl =\n",
              "            document.querySelector('#' + key + ' button');\n",
              "          quickchartButtonEl.disabled = true;  // To prevent multiple clicks.\n",
              "          quickchartButtonEl.classList.add('colab-df-spinner');\n",
              "          try {\n",
              "            const charts = await google.colab.kernel.invokeFunction(\n",
              "                'suggestCharts', [key], {});\n",
              "          } catch (error) {\n",
              "            console.error('Error during call to suggestCharts:', error);\n",
              "          }\n",
              "          quickchartButtonEl.classList.remove('colab-df-spinner');\n",
              "          quickchartButtonEl.classList.add('colab-df-quickchart-complete');\n",
              "        }\n",
              "        (() => {\n",
              "          let quickchartButtonEl =\n",
              "            document.querySelector('#df-a145c991-9e2c-4da3-bf27-195521afda9d button');\n",
              "          quickchartButtonEl.style.display =\n",
              "            google.colab.kernel.accessAllowed ? 'block' : 'none';\n",
              "        })();\n",
              "      </script>\n",
              "    </div>\n",
              "\n",
              "    </div>\n",
              "  </div>\n"
            ],
            "application/vnd.google.colaboratory.intrinsic+json": {
              "type": "dataframe",
              "summary": "{\n  \"name\": \"f1_frame[f1_frame['air'] > 0\",\n  \"rows\": 5,\n  \"fields\": [\n    {\n      \"column\": \"cut\",\n      \"properties\": {\n        \"dtype\": \"number\",\n        \"std\": 0.015811388300841896,\n        \"min\": 0.21,\n        \"max\": 0.25,\n        \"num_unique_values\": 5,\n        \"samples\": [\n          0.22,\n          0.25,\n          0.23\n        ],\n        \"semantic_type\": \"\",\n        \"description\": \"\"\n      }\n    },\n    {\n      \"column\": \"f1\",\n      \"properties\": {\n        \"dtype\": \"number\",\n        \"std\": 0.011908166313949777,\n        \"min\": 0.33306804615996816,\n        \"max\": 0.36209140319987754,\n        \"num_unique_values\": 5,\n        \"samples\": [\n          0.3568451164691459,\n          0.33306804615996816,\n          0.34778822709857193\n        ],\n        \"semantic_type\": \"\",\n        \"description\": \"\"\n      }\n    },\n    {\n      \"column\": \"acc\",\n      \"properties\": {\n        \"dtype\": \"number\",\n        \"std\": 0.013276420162735076,\n        \"min\": 0.8267027139440574,\n        \"max\": 0.8605802225226162,\n        \"num_unique_values\": 5,\n        \"samples\": [\n          0.8363522928148072,\n          0.8605802225226162,\n          0.8442341686596652\n        ],\n        \"semantic_type\": \"\",\n        \"description\": \"\"\n      }\n    },\n    {\n      \"column\": \"air\",\n      \"properties\": {\n        \"dtype\": \"number\",\n        \"std\": 0.028631663155717933,\n        \"min\": 0.8060745054620492,\n        \"max\": 0.8768665390165199,\n        \"num_unique_values\": 5,\n        \"samples\": [\n          0.8242581498594175,\n          0.8768665390165199,\n          0.8445214205019\n        ],\n        \"semantic_type\": \"\",\n        \"description\": \"\"\n      }\n    }\n  ]\n}"
            }
          },
          "metadata": {},
          "execution_count": 21
        }
      ],
      "source": [
        "f1_frame = get_max_f1_frame(best_ebm_phat, y_name, 'phat', air_reference='white', air_protected='black')\n",
        "# print highest quality cutoffs above four fifths rule cutoff\n",
        "f1_frame[f1_frame['air'] > 0.8].sort_values(by='f1', ascending=False).head()"
      ]
    },
    {
      "cell_type": "markdown",
      "id": "da510ba4",
      "metadata": {
        "id": "da510ba4"
      },
      "source": [
        "Cutoffs in the 0.22-0.26 range provide increased accuracy and less bias towards Black people."
      ]
    },
    {
      "cell_type": "markdown",
      "id": "059e0098",
      "metadata": {
        "id": "059e0098"
      },
      "source": [
        "#### Check that other groups are not adversely impacted by change"
      ]
    },
    {
      "cell_type": "code",
      "execution_count": null,
      "id": "3bf36369",
      "metadata": {
        "colab": {
          "base_uri": "https://localhost:8080/"
        },
        "id": "3bf36369",
        "outputId": "6b911c3c-9a90-4a0a-c584-4c512041aa5e"
      },
      "outputs": [
        {
          "output_type": "stream",
          "name": "stdout",
          "text": [
            "Adverse impact ratio for Asian people vs. White people: 1.121\n",
            "Adverse impact ratio for Black people vs. White people: 0.824\n",
            "Adverse impact ratio for Females vs. Males: 0.965\n"
          ]
        }
      ],
      "source": [
        "# calculate new confusion matrics for each group\n",
        "rem_cm_dict = {}\n",
        "for name in demographic_group_names:\n",
        "    rem_cm_dict[name] = get_confusion_matrix(best_ebm_phat, y_name, 'phat', by=name, level=1, cutoff=0.22, verbose=False)\n",
        "\n",
        "# calculate AIR for each group\n",
        "print('Adverse impact ratio for Asian people vs. White people: %.3f' % air(rem_cm_dict, 'white', 'asian', verbose=False))\n",
        "print('Adverse impact ratio for Black people vs. White people: %.3f' % air(rem_cm_dict, 'white', 'black', verbose=False))\n",
        "print('Adverse impact ratio for Females vs. Males: %.3f' % air(rem_cm_dict, 'male', 'female', verbose=False))"
      ]
    },
    {
      "cell_type": "markdown",
      "id": "ebe3238c",
      "metadata": {
        "id": "ebe3238c"
      },
      "source": [
        "The new cutoff does not adversely affect other protected groups."
      ]
    },
    {
      "cell_type": "markdown",
      "id": "df03ff02",
      "metadata": {
        "id": "df03ff02"
      },
      "source": [
        "#### Retrain most accurate model above 0.8 AIR"
      ]
    },
    {
      "cell_type": "code",
      "execution_count": null,
      "id": "363c0f63",
      "metadata": {
        "colab": {
          "base_uri": "https://localhost:8080/"
        },
        "id": "363c0f63",
        "outputId": "6b324cf4-27c4-43b9-c7ab-b5ca9e394511"
      },
      "outputs": [
        {
          "output_type": "stream",
          "name": "stdout",
          "text": [
            "Remediated EBM retrained with AUC: 0.7374.\n"
          ]
        }
      ],
      "source": [
        "# best remediated features from assignment 3\n",
        "rem_x_names =  ['no_intro_rate_period_std',\n",
        " 'debt_to_income_ratio_missing',\n",
        " 'income_std',\n",
        " 'term_360',\n",
        " 'conforming',\n",
        " 'debt_to_income_ratio_std',\n",
        " 'loan_amount_std']\n",
        "\n",
        "# best remediated params from assignment 3\n",
        "rem_params = {'max_bins': 256,\n",
        " 'max_interaction_bins': 16,\n",
        " 'interactions': 15,\n",
        " 'outer_bags': 8,\n",
        " 'inner_bags': 4,\n",
        " 'learning_rate': 0.05,\n",
        " 'validation_size': 0.1,\n",
        " 'min_samples_leaf': 10,\n",
        " 'max_leaves': 3,\n",
        " 'n_jobs': 4,\n",
        " 'early_stopping_rounds': 100,\n",
        " 'random_state': 10001}\n",
        "\n",
        "# reset some parameters to integers\n",
        "for p in rem_params.keys():\n",
        "  if p not in ['learning_rate', 'validation_size']:\n",
        "    rem_params[p] = int(rem_params[p])\n",
        "\n",
        "# retrain\n",
        "rem_ebm = ExplainableBoostingClassifier(**rem_params)\n",
        "rem_ebm.fit(train[rem_x_names], train[y_name])\n",
        "rem_ebm_perf = ROC(rem_ebm.predict_proba).explain_perf(valid[rem_x_names], valid[y_name])\n",
        "rem_auc = rem_ebm_perf._internal_obj['overall']['auc']\n",
        "print('Remediated EBM retrained with AUC: %.4f.' % rem_auc)"
      ]
    },
    {
      "cell_type": "markdown",
      "id": "41716452",
      "metadata": {
        "id": "41716452"
      },
      "source": [
        "#### Check that other groups are not adversely impacted by change"
      ]
    },
    {
      "cell_type": "code",
      "execution_count": null,
      "id": "8abd6d5f",
      "metadata": {
        "colab": {
          "base_uri": "https://localhost:8080/"
        },
        "id": "8abd6d5f",
        "outputId": "1c5969d6-a0fe-40a3-a49a-327077e9c295"
      },
      "outputs": [
        {
          "output_type": "stream",
          "name": "stdout",
          "text": [
            "Adverse impact ratio for Asian people vs. White people: 1.140\n",
            "Adverse impact ratio for Black people vs. White people: 0.855\n",
            "Adverse impact ratio for Females vs. Males: 0.948\n"
          ]
        }
      ],
      "source": [
        "# create a frame with remediated EBM predictions\n",
        "best_ebm_phat2 = pd.DataFrame(rem_ebm.predict_proba(valid[rem_x_names])[:, 1], columns=['phat'])\n",
        "best_ebm_phat2 = pd.concat([valid.reset_index(drop=True), best_ebm_phat2], axis=1)\n",
        "\n",
        "# calculate new confusion matrices for each group\n",
        "rem_cm_dict2 = {}\n",
        "for name in demographic_group_names:\n",
        "    rem_cm_dict2[name] = get_confusion_matrix(best_ebm_phat2, y_name, 'phat', by=name, level=1, cutoff=0.17, verbose=False)\n",
        "\n",
        "# calculate AIR for each group\n",
        "print('Adverse impact ratio for Asian people vs. White people: %.3f' % air(rem_cm_dict2, 'white', 'asian', verbose=False))\n",
        "print('Adverse impact ratio for Black people vs. White people: %.3f' % air(rem_cm_dict2, 'white', 'black', verbose=False))\n",
        "print('Adverse impact ratio for Females vs. Males: %.3f' % air(rem_cm_dict2, 'male', 'female', verbose=False))"
      ]
    },
    {
      "cell_type": "markdown",
      "id": "733c9570",
      "metadata": {
        "id": "733c9570"
      },
      "source": [
        "This analysis shows that even with a selective cutoff of 0.17, less discriminatory models are available. The new set of features and hyperparameters leads to a ~13% increase in AIR with a ~5% decrease in AUC."
      ]
    },
    {
      "cell_type": "markdown",
      "id": "9203933c",
      "metadata": {
        "id": "9203933c"
      },
      "source": [
        "#### Print best model parameters for later use"
      ]
    },
    {
      "cell_type": "code",
      "execution_count": null,
      "id": "972cef55",
      "metadata": {
        "colab": {
          "base_uri": "https://localhost:8080/"
        },
        "id": "972cef55",
        "outputId": "6db98818-b6b2-4574-9334-df230ecc2871"
      },
      "outputs": [
        {
          "output_type": "execute_result",
          "data": {
            "text/plain": [
              "{'max_bins': 256,\n",
              " 'max_interaction_bins': 16,\n",
              " 'interactions': 15,\n",
              " 'outer_bags': 8,\n",
              " 'inner_bags': 4,\n",
              " 'learning_rate': 0.05,\n",
              " 'validation_size': 0.1,\n",
              " 'min_samples_leaf': 10,\n",
              " 'max_leaves': 3,\n",
              " 'n_jobs': 4,\n",
              " 'early_stopping_rounds': 100,\n",
              " 'random_state': 10001}"
            ]
          },
          "metadata": {},
          "execution_count": 25
        }
      ],
      "source": [
        "rem_params"
      ]
    },
    {
      "cell_type": "markdown",
      "id": "8f3f1647",
      "metadata": {
        "id": "8f3f1647"
      },
      "source": [
        "#### Print best model features for later use  "
      ]
    },
    {
      "cell_type": "code",
      "execution_count": null,
      "id": "f173ac4f",
      "metadata": {
        "colab": {
          "base_uri": "https://localhost:8080/"
        },
        "id": "f173ac4f",
        "outputId": "7a2ee03c-3457-4a4d-8fa6-70b54723e44b"
      },
      "outputs": [
        {
          "output_type": "execute_result",
          "data": {
            "text/plain": [
              "['no_intro_rate_period_std',\n",
              " 'debt_to_income_ratio_missing',\n",
              " 'income_std',\n",
              " 'term_360',\n",
              " 'conforming',\n",
              " 'debt_to_income_ratio_std',\n",
              " 'loan_amount_std']"
            ]
          },
          "metadata": {},
          "execution_count": 26
        }
      ],
      "source": [
        "rem_x_names"
      ]
    },
    {
      "cell_type": "markdown",
      "id": "f1e0ec79",
      "metadata": {
        "id": "f1e0ec79"
      },
      "source": [
        "#### Write submission file"
      ]
    },
    {
      "cell_type": "code",
      "execution_count": null,
      "id": "c2d71d87",
      "metadata": {
        "id": "c2d71d87"
      },
      "outputs": [],
      "source": [
        "rem_ebm_submit = pd.DataFrame(rem_ebm.predict_proba(test[rem_x_names])[:, 1], columns=['phat'])\n",
        "rem_ebm_submit.to_csv('ph_rem_ebm_' + str(datetime.datetime.now().strftime(\"%Y_%m_%d_%H_%M_%S\") + '.csv'),\n",
        "                        index=False)"
      ]
    },
    {
      "cell_type": "markdown",
      "id": "35aaaa92",
      "metadata": {
        "id": "35aaaa92"
      },
      "source": [
        "#### End timer"
      ]
    },
    {
      "cell_type": "code",
      "execution_count": null,
      "id": "e978d190",
      "metadata": {
        "colab": {
          "base_uri": "https://localhost:8080/"
        },
        "id": "e978d190",
        "outputId": "aaccb0c2-1bcb-4a99-a27c-afc833ade156"
      },
      "outputs": [
        {
          "output_type": "stream",
          "name": "stdout",
          "text": [
            "All tasks completed in 321.81 s.\n"
          ]
        }
      ],
      "source": [
        "toc = time.time() - tic\n",
        "print('All tasks completed in %.2f s.' % (toc))"
      ]
    }
  ],
  "metadata": {
    "kernelspec": {
      "display_name": "Python 3 (ipykernel)",
      "language": "python",
      "name": "python3"
    },
    "language_info": {
      "codemirror_mode": {
        "name": "ipython",
        "version": 3
      },
      "file_extension": ".py",
      "mimetype": "text/x-python",
      "name": "python",
      "nbconvert_exporter": "python",
      "pygments_lexer": "ipython3",
      "version": "3.7.16"
    },
    "colab": {
      "provenance": [],
      "include_colab_link": true
    }
  },
  "nbformat": 4,
  "nbformat_minor": 5
}