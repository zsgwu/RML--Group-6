{
  "cells": [
    {
      "cell_type": "markdown",
      "metadata": {
        "id": "view-in-github",
        "colab_type": "text"
      },
      "source": [
        "<a href=\"https://colab.research.google.com/github/apoorvap11/RML--Group-6/blob/main/Group6_A5_.ipynb\" target=\"_parent\"><img src=\"https://colab.research.google.com/assets/colab-badge.svg\" alt=\"Open In Colab\"/></a>"
      ]
    },
    {
      "cell_type": "markdown",
      "id": "1934d2de",
      "metadata": {
        "id": "1934d2de"
      },
      "source": [
        "## License\n",
        "\n",
        "\n",
        "\n",
        "Copyright 2021 - 2025 Patrick Hall (jphall@gwu.edu), Apoorva Paranthaman (apoorvap@gwu.edu), Maryam Shabhaz Ali (maryamshahbaz.ali@gwmail.gwu.edu), Zahra Sultani (zahra.sultani@gwmail.gwu.edu)\n",
        "\n",
        "Licensed under the Apache License, Version 2.0 (the \"License\"); you may not use this file except in compliance with the License. You may obtain a copy of the License at\n",
        "\n",
        "    http://www.apache.org/licenses/LICENSE-2.0\n",
        "\n",
        "Unless required by applicable law or agreed to in writing, software\n",
        "distributed under the License is distributed on an \"AS IS\" BASIS,\n",
        "WITHOUT WARRANTIES OR CONDITIONS OF ANY KIND, either express or implied.\n",
        "See the License for the specific language governing permissions and\n",
        "limitations under the License.\n",
        "\n",
        "*DISCLAIMER*: This notebook is not legal or compliance advice."
      ]
    },
    {
      "cell_type": "markdown",
      "id": "c7556803",
      "metadata": {
        "id": "c7556803"
      },
      "source": [
        "# Assignment 5"
      ]
    },
    {
      "cell_type": "markdown",
      "id": "44ddbb28",
      "metadata": {
        "id": "44ddbb28"
      },
      "source": [
        "#### Imports and inits"
      ]
    },
    {
      "cell_type": "code",
      "source": [
        "!pip install h2o\n",
        "!pip install interpret\n",
        "!pip install xgboost"
      ],
      "metadata": {
        "colab": {
          "base_uri": "https://localhost:8080/"
        },
        "id": "QHF_zbTU2oTk",
        "outputId": "d1441912-8da1-4ff6-fdca-46e98227b31d"
      },
      "id": "QHF_zbTU2oTk",
      "execution_count": 1,
      "outputs": [
        {
          "output_type": "stream",
          "name": "stdout",
          "text": [
            "Requirement already satisfied: h2o in /usr/local/lib/python3.11/dist-packages (3.46.0.7)\n",
            "Requirement already satisfied: requests in /usr/local/lib/python3.11/dist-packages (from h2o) (2.32.3)\n",
            "Requirement already satisfied: tabulate in /usr/local/lib/python3.11/dist-packages (from h2o) (0.9.0)\n",
            "Requirement already satisfied: charset-normalizer<4,>=2 in /usr/local/lib/python3.11/dist-packages (from requests->h2o) (3.4.1)\n",
            "Requirement already satisfied: idna<4,>=2.5 in /usr/local/lib/python3.11/dist-packages (from requests->h2o) (3.10)\n",
            "Requirement already satisfied: urllib3<3,>=1.21.1 in /usr/local/lib/python3.11/dist-packages (from requests->h2o) (2.3.0)\n",
            "Requirement already satisfied: certifi>=2017.4.17 in /usr/local/lib/python3.11/dist-packages (from requests->h2o) (2025.1.31)\n",
            "Requirement already satisfied: interpret in /usr/local/lib/python3.11/dist-packages (0.6.10)\n",
            "Requirement already satisfied: interpret-core==0.6.10 in /usr/local/lib/python3.11/dist-packages (from interpret-core[aplr,dash,debug,linear,notebook,plotly,sensitivity,shap]==0.6.10->interpret) (0.6.10)\n",
            "Requirement already satisfied: numpy>=1.25 in /usr/local/lib/python3.11/dist-packages (from interpret-core==0.6.10->interpret-core[aplr,dash,debug,linear,notebook,plotly,sensitivity,shap]==0.6.10->interpret) (2.0.2)\n",
            "Requirement already satisfied: pandas>=0.19.2 in /usr/local/lib/python3.11/dist-packages (from interpret-core==0.6.10->interpret-core[aplr,dash,debug,linear,notebook,plotly,sensitivity,shap]==0.6.10->interpret) (2.2.2)\n",
            "Requirement already satisfied: scikit-learn>=0.18.1 in /usr/local/lib/python3.11/dist-packages (from interpret-core==0.6.10->interpret-core[aplr,dash,debug,linear,notebook,plotly,sensitivity,shap]==0.6.10->interpret) (1.6.1)\n",
            "Requirement already satisfied: joblib>=0.11 in /usr/local/lib/python3.11/dist-packages (from interpret-core==0.6.10->interpret-core[aplr,dash,debug,linear,notebook,plotly,sensitivity,shap]==0.6.10->interpret) (1.4.2)\n",
            "Requirement already satisfied: psutil>=5.6.2 in /usr/local/lib/python3.11/dist-packages (from interpret-core[aplr,dash,debug,linear,notebook,plotly,sensitivity,shap]==0.6.10->interpret) (5.9.5)\n",
            "Requirement already satisfied: ipykernel>=4.10.0 in /usr/local/lib/python3.11/dist-packages (from interpret-core[aplr,dash,debug,linear,notebook,plotly,sensitivity,shap]==0.6.10->interpret) (6.17.1)\n",
            "Requirement already satisfied: ipython>=5.5.0 in /usr/local/lib/python3.11/dist-packages (from interpret-core[aplr,dash,debug,linear,notebook,plotly,sensitivity,shap]==0.6.10->interpret) (7.34.0)\n",
            "Requirement already satisfied: plotly>=3.8.1 in /usr/local/lib/python3.11/dist-packages (from interpret-core[aplr,dash,debug,linear,notebook,plotly,sensitivity,shap]==0.6.10->interpret) (5.24.1)\n",
            "Requirement already satisfied: SALib>=1.3.3 in /usr/local/lib/python3.11/dist-packages (from interpret-core[aplr,dash,debug,linear,notebook,plotly,sensitivity,shap]==0.6.10->interpret) (1.5.1)\n",
            "Requirement already satisfied: shap>=0.28.5 in /usr/local/lib/python3.11/dist-packages (from interpret-core[aplr,dash,debug,linear,notebook,plotly,sensitivity,shap]==0.6.10->interpret) (0.47.1)\n",
            "Requirement already satisfied: dill>=0.2.5 in /usr/local/lib/python3.11/dist-packages (from interpret-core[aplr,dash,debug,linear,notebook,plotly,sensitivity,shap]==0.6.10->interpret) (0.4.0)\n",
            "Requirement already satisfied: aplr>=10.6.1 in /usr/local/lib/python3.11/dist-packages (from interpret-core[aplr,dash,debug,linear,notebook,plotly,sensitivity,shap]==0.6.10->interpret) (10.9.0)\n",
            "Requirement already satisfied: dash<3.0.0,>=1.0.0 in /usr/local/lib/python3.11/dist-packages (from interpret-core[aplr,dash,debug,linear,notebook,plotly,sensitivity,shap]==0.6.10->interpret) (2.18.2)\n",
            "Requirement already satisfied: dash-core-components>=1.0.0 in /usr/local/lib/python3.11/dist-packages (from interpret-core[aplr,dash,debug,linear,notebook,plotly,sensitivity,shap]==0.6.10->interpret) (2.0.0)\n",
            "Requirement already satisfied: dash-html-components>=1.0.0 in /usr/local/lib/python3.11/dist-packages (from interpret-core[aplr,dash,debug,linear,notebook,plotly,sensitivity,shap]==0.6.10->interpret) (2.0.0)\n",
            "Requirement already satisfied: dash-table>=4.1.0 in /usr/local/lib/python3.11/dist-packages (from interpret-core[aplr,dash,debug,linear,notebook,plotly,sensitivity,shap]==0.6.10->interpret) (5.0.0)\n",
            "Requirement already satisfied: dash-cytoscape>=0.1.1 in /usr/local/lib/python3.11/dist-packages (from interpret-core[aplr,dash,debug,linear,notebook,plotly,sensitivity,shap]==0.6.10->interpret) (1.0.2)\n",
            "Requirement already satisfied: gevent>=1.3.6 in /usr/local/lib/python3.11/dist-packages (from interpret-core[aplr,dash,debug,linear,notebook,plotly,sensitivity,shap]==0.6.10->interpret) (25.4.1)\n",
            "Requirement already satisfied: requests>=2.19.0 in /usr/local/lib/python3.11/dist-packages (from interpret-core[aplr,dash,debug,linear,notebook,plotly,sensitivity,shap]==0.6.10->interpret) (2.32.3)\n",
            "Requirement already satisfied: Flask<3.1,>=1.0.4 in /usr/local/lib/python3.11/dist-packages (from dash<3.0.0,>=1.0.0->interpret-core[aplr,dash,debug,linear,notebook,plotly,sensitivity,shap]==0.6.10->interpret) (3.0.3)\n",
            "Requirement already satisfied: Werkzeug<3.1 in /usr/local/lib/python3.11/dist-packages (from dash<3.0.0,>=1.0.0->interpret-core[aplr,dash,debug,linear,notebook,plotly,sensitivity,shap]==0.6.10->interpret) (3.0.6)\n",
            "Requirement already satisfied: importlib-metadata in /usr/local/lib/python3.11/dist-packages (from dash<3.0.0,>=1.0.0->interpret-core[aplr,dash,debug,linear,notebook,plotly,sensitivity,shap]==0.6.10->interpret) (8.6.1)\n",
            "Requirement already satisfied: typing-extensions>=4.1.1 in /usr/local/lib/python3.11/dist-packages (from dash<3.0.0,>=1.0.0->interpret-core[aplr,dash,debug,linear,notebook,plotly,sensitivity,shap]==0.6.10->interpret) (4.13.2)\n",
            "Requirement already satisfied: retrying in /usr/local/lib/python3.11/dist-packages (from dash<3.0.0,>=1.0.0->interpret-core[aplr,dash,debug,linear,notebook,plotly,sensitivity,shap]==0.6.10->interpret) (1.3.4)\n",
            "Requirement already satisfied: nest-asyncio in /usr/local/lib/python3.11/dist-packages (from dash<3.0.0,>=1.0.0->interpret-core[aplr,dash,debug,linear,notebook,plotly,sensitivity,shap]==0.6.10->interpret) (1.6.0)\n",
            "Requirement already satisfied: setuptools in /usr/local/lib/python3.11/dist-packages (from dash<3.0.0,>=1.0.0->interpret-core[aplr,dash,debug,linear,notebook,plotly,sensitivity,shap]==0.6.10->interpret) (75.2.0)\n",
            "Requirement already satisfied: greenlet>=3.2.0 in /usr/local/lib/python3.11/dist-packages (from gevent>=1.3.6->interpret-core[aplr,dash,debug,linear,notebook,plotly,sensitivity,shap]==0.6.10->interpret) (3.2.0)\n",
            "Requirement already satisfied: zope.event in /usr/local/lib/python3.11/dist-packages (from gevent>=1.3.6->interpret-core[aplr,dash,debug,linear,notebook,plotly,sensitivity,shap]==0.6.10->interpret) (5.0)\n",
            "Requirement already satisfied: zope.interface in /usr/local/lib/python3.11/dist-packages (from gevent>=1.3.6->interpret-core[aplr,dash,debug,linear,notebook,plotly,sensitivity,shap]==0.6.10->interpret) (7.2)\n",
            "Requirement already satisfied: debugpy>=1.0 in /usr/local/lib/python3.11/dist-packages (from ipykernel>=4.10.0->interpret-core[aplr,dash,debug,linear,notebook,plotly,sensitivity,shap]==0.6.10->interpret) (1.8.0)\n",
            "Requirement already satisfied: jupyter-client>=6.1.12 in /usr/local/lib/python3.11/dist-packages (from ipykernel>=4.10.0->interpret-core[aplr,dash,debug,linear,notebook,plotly,sensitivity,shap]==0.6.10->interpret) (6.1.12)\n",
            "Requirement already satisfied: matplotlib-inline>=0.1 in /usr/local/lib/python3.11/dist-packages (from ipykernel>=4.10.0->interpret-core[aplr,dash,debug,linear,notebook,plotly,sensitivity,shap]==0.6.10->interpret) (0.1.7)\n",
            "Requirement already satisfied: packaging in /usr/local/lib/python3.11/dist-packages (from ipykernel>=4.10.0->interpret-core[aplr,dash,debug,linear,notebook,plotly,sensitivity,shap]==0.6.10->interpret) (24.2)\n",
            "Requirement already satisfied: pyzmq>=17 in /usr/local/lib/python3.11/dist-packages (from ipykernel>=4.10.0->interpret-core[aplr,dash,debug,linear,notebook,plotly,sensitivity,shap]==0.6.10->interpret) (24.0.1)\n",
            "Requirement already satisfied: tornado>=6.1 in /usr/local/lib/python3.11/dist-packages (from ipykernel>=4.10.0->interpret-core[aplr,dash,debug,linear,notebook,plotly,sensitivity,shap]==0.6.10->interpret) (6.4.2)\n",
            "Requirement already satisfied: traitlets>=5.1.0 in /usr/local/lib/python3.11/dist-packages (from ipykernel>=4.10.0->interpret-core[aplr,dash,debug,linear,notebook,plotly,sensitivity,shap]==0.6.10->interpret) (5.7.1)\n",
            "Requirement already satisfied: jedi>=0.16 in /usr/local/lib/python3.11/dist-packages (from ipython>=5.5.0->interpret-core[aplr,dash,debug,linear,notebook,plotly,sensitivity,shap]==0.6.10->interpret) (0.19.2)\n",
            "Requirement already satisfied: decorator in /usr/local/lib/python3.11/dist-packages (from ipython>=5.5.0->interpret-core[aplr,dash,debug,linear,notebook,plotly,sensitivity,shap]==0.6.10->interpret) (4.4.2)\n",
            "Requirement already satisfied: pickleshare in /usr/local/lib/python3.11/dist-packages (from ipython>=5.5.0->interpret-core[aplr,dash,debug,linear,notebook,plotly,sensitivity,shap]==0.6.10->interpret) (0.7.5)\n",
            "Requirement already satisfied: prompt-toolkit!=3.0.0,!=3.0.1,<3.1.0,>=2.0.0 in /usr/local/lib/python3.11/dist-packages (from ipython>=5.5.0->interpret-core[aplr,dash,debug,linear,notebook,plotly,sensitivity,shap]==0.6.10->interpret) (3.0.51)\n",
            "Requirement already satisfied: pygments in /usr/local/lib/python3.11/dist-packages (from ipython>=5.5.0->interpret-core[aplr,dash,debug,linear,notebook,plotly,sensitivity,shap]==0.6.10->interpret) (2.18.0)\n",
            "Requirement already satisfied: backcall in /usr/local/lib/python3.11/dist-packages (from ipython>=5.5.0->interpret-core[aplr,dash,debug,linear,notebook,plotly,sensitivity,shap]==0.6.10->interpret) (0.2.0)\n",
            "Requirement already satisfied: pexpect>4.3 in /usr/local/lib/python3.11/dist-packages (from ipython>=5.5.0->interpret-core[aplr,dash,debug,linear,notebook,plotly,sensitivity,shap]==0.6.10->interpret) (4.9.0)\n",
            "Requirement already satisfied: python-dateutil>=2.8.2 in /usr/local/lib/python3.11/dist-packages (from pandas>=0.19.2->interpret-core==0.6.10->interpret-core[aplr,dash,debug,linear,notebook,plotly,sensitivity,shap]==0.6.10->interpret) (2.8.2)\n",
            "Requirement already satisfied: pytz>=2020.1 in /usr/local/lib/python3.11/dist-packages (from pandas>=0.19.2->interpret-core==0.6.10->interpret-core[aplr,dash,debug,linear,notebook,plotly,sensitivity,shap]==0.6.10->interpret) (2025.2)\n",
            "Requirement already satisfied: tzdata>=2022.7 in /usr/local/lib/python3.11/dist-packages (from pandas>=0.19.2->interpret-core==0.6.10->interpret-core[aplr,dash,debug,linear,notebook,plotly,sensitivity,shap]==0.6.10->interpret) (2025.2)\n",
            "Requirement already satisfied: tenacity>=6.2.0 in /usr/local/lib/python3.11/dist-packages (from plotly>=3.8.1->interpret-core[aplr,dash,debug,linear,notebook,plotly,sensitivity,shap]==0.6.10->interpret) (9.1.2)\n",
            "Requirement already satisfied: charset-normalizer<4,>=2 in /usr/local/lib/python3.11/dist-packages (from requests>=2.19.0->interpret-core[aplr,dash,debug,linear,notebook,plotly,sensitivity,shap]==0.6.10->interpret) (3.4.1)\n",
            "Requirement already satisfied: idna<4,>=2.5 in /usr/local/lib/python3.11/dist-packages (from requests>=2.19.0->interpret-core[aplr,dash,debug,linear,notebook,plotly,sensitivity,shap]==0.6.10->interpret) (3.10)\n",
            "Requirement already satisfied: urllib3<3,>=1.21.1 in /usr/local/lib/python3.11/dist-packages (from requests>=2.19.0->interpret-core[aplr,dash,debug,linear,notebook,plotly,sensitivity,shap]==0.6.10->interpret) (2.3.0)\n",
            "Requirement already satisfied: certifi>=2017.4.17 in /usr/local/lib/python3.11/dist-packages (from requests>=2.19.0->interpret-core[aplr,dash,debug,linear,notebook,plotly,sensitivity,shap]==0.6.10->interpret) (2025.1.31)\n",
            "Requirement already satisfied: matplotlib>=3.5 in /usr/local/lib/python3.11/dist-packages (from SALib>=1.3.3->interpret-core[aplr,dash,debug,linear,notebook,plotly,sensitivity,shap]==0.6.10->interpret) (3.10.0)\n",
            "Requirement already satisfied: multiprocess in /usr/local/lib/python3.11/dist-packages (from SALib>=1.3.3->interpret-core[aplr,dash,debug,linear,notebook,plotly,sensitivity,shap]==0.6.10->interpret) (0.70.18)\n",
            "Requirement already satisfied: scipy>=1.9.3 in /usr/local/lib/python3.11/dist-packages (from SALib>=1.3.3->interpret-core[aplr,dash,debug,linear,notebook,plotly,sensitivity,shap]==0.6.10->interpret) (1.14.1)\n",
            "Requirement already satisfied: threadpoolctl>=3.1.0 in /usr/local/lib/python3.11/dist-packages (from scikit-learn>=0.18.1->interpret-core==0.6.10->interpret-core[aplr,dash,debug,linear,notebook,plotly,sensitivity,shap]==0.6.10->interpret) (3.6.0)\n",
            "Requirement already satisfied: tqdm>=4.27.0 in /usr/local/lib/python3.11/dist-packages (from shap>=0.28.5->interpret-core[aplr,dash,debug,linear,notebook,plotly,sensitivity,shap]==0.6.10->interpret) (4.67.1)\n",
            "Requirement already satisfied: slicer==0.0.8 in /usr/local/lib/python3.11/dist-packages (from shap>=0.28.5->interpret-core[aplr,dash,debug,linear,notebook,plotly,sensitivity,shap]==0.6.10->interpret) (0.0.8)\n",
            "Requirement already satisfied: numba>=0.54 in /usr/local/lib/python3.11/dist-packages (from shap>=0.28.5->interpret-core[aplr,dash,debug,linear,notebook,plotly,sensitivity,shap]==0.6.10->interpret) (0.60.0)\n",
            "Requirement already satisfied: cloudpickle in /usr/local/lib/python3.11/dist-packages (from shap>=0.28.5->interpret-core[aplr,dash,debug,linear,notebook,plotly,sensitivity,shap]==0.6.10->interpret) (3.1.1)\n",
            "Requirement already satisfied: Jinja2>=3.1.2 in /usr/local/lib/python3.11/dist-packages (from Flask<3.1,>=1.0.4->dash<3.0.0,>=1.0.0->interpret-core[aplr,dash,debug,linear,notebook,plotly,sensitivity,shap]==0.6.10->interpret) (3.1.6)\n",
            "Requirement already satisfied: itsdangerous>=2.1.2 in /usr/local/lib/python3.11/dist-packages (from Flask<3.1,>=1.0.4->dash<3.0.0,>=1.0.0->interpret-core[aplr,dash,debug,linear,notebook,plotly,sensitivity,shap]==0.6.10->interpret) (2.2.0)\n",
            "Requirement already satisfied: click>=8.1.3 in /usr/local/lib/python3.11/dist-packages (from Flask<3.1,>=1.0.4->dash<3.0.0,>=1.0.0->interpret-core[aplr,dash,debug,linear,notebook,plotly,sensitivity,shap]==0.6.10->interpret) (8.1.8)\n",
            "Requirement already satisfied: blinker>=1.6.2 in /usr/local/lib/python3.11/dist-packages (from Flask<3.1,>=1.0.4->dash<3.0.0,>=1.0.0->interpret-core[aplr,dash,debug,linear,notebook,plotly,sensitivity,shap]==0.6.10->interpret) (1.9.0)\n",
            "Requirement already satisfied: parso<0.9.0,>=0.8.4 in /usr/local/lib/python3.11/dist-packages (from jedi>=0.16->ipython>=5.5.0->interpret-core[aplr,dash,debug,linear,notebook,plotly,sensitivity,shap]==0.6.10->interpret) (0.8.4)\n",
            "Requirement already satisfied: jupyter-core>=4.6.0 in /usr/local/lib/python3.11/dist-packages (from jupyter-client>=6.1.12->ipykernel>=4.10.0->interpret-core[aplr,dash,debug,linear,notebook,plotly,sensitivity,shap]==0.6.10->interpret) (5.7.2)\n",
            "Requirement already satisfied: contourpy>=1.0.1 in /usr/local/lib/python3.11/dist-packages (from matplotlib>=3.5->SALib>=1.3.3->interpret-core[aplr,dash,debug,linear,notebook,plotly,sensitivity,shap]==0.6.10->interpret) (1.3.2)\n",
            "Requirement already satisfied: cycler>=0.10 in /usr/local/lib/python3.11/dist-packages (from matplotlib>=3.5->SALib>=1.3.3->interpret-core[aplr,dash,debug,linear,notebook,plotly,sensitivity,shap]==0.6.10->interpret) (0.12.1)\n",
            "Requirement already satisfied: fonttools>=4.22.0 in /usr/local/lib/python3.11/dist-packages (from matplotlib>=3.5->SALib>=1.3.3->interpret-core[aplr,dash,debug,linear,notebook,plotly,sensitivity,shap]==0.6.10->interpret) (4.57.0)\n",
            "Requirement already satisfied: kiwisolver>=1.3.1 in /usr/local/lib/python3.11/dist-packages (from matplotlib>=3.5->SALib>=1.3.3->interpret-core[aplr,dash,debug,linear,notebook,plotly,sensitivity,shap]==0.6.10->interpret) (1.4.8)\n",
            "Requirement already satisfied: pillow>=8 in /usr/local/lib/python3.11/dist-packages (from matplotlib>=3.5->SALib>=1.3.3->interpret-core[aplr,dash,debug,linear,notebook,plotly,sensitivity,shap]==0.6.10->interpret) (11.1.0)\n",
            "Requirement already satisfied: pyparsing>=2.3.1 in /usr/local/lib/python3.11/dist-packages (from matplotlib>=3.5->SALib>=1.3.3->interpret-core[aplr,dash,debug,linear,notebook,plotly,sensitivity,shap]==0.6.10->interpret) (3.2.3)\n",
            "Requirement already satisfied: llvmlite<0.44,>=0.43.0dev0 in /usr/local/lib/python3.11/dist-packages (from numba>=0.54->shap>=0.28.5->interpret-core[aplr,dash,debug,linear,notebook,plotly,sensitivity,shap]==0.6.10->interpret) (0.43.0)\n",
            "Requirement already satisfied: ptyprocess>=0.5 in /usr/local/lib/python3.11/dist-packages (from pexpect>4.3->ipython>=5.5.0->interpret-core[aplr,dash,debug,linear,notebook,plotly,sensitivity,shap]==0.6.10->interpret) (0.7.0)\n",
            "Requirement already satisfied: wcwidth in /usr/local/lib/python3.11/dist-packages (from prompt-toolkit!=3.0.0,!=3.0.1,<3.1.0,>=2.0.0->ipython>=5.5.0->interpret-core[aplr,dash,debug,linear,notebook,plotly,sensitivity,shap]==0.6.10->interpret) (0.2.13)\n",
            "Requirement already satisfied: six>=1.5 in /usr/local/lib/python3.11/dist-packages (from python-dateutil>=2.8.2->pandas>=0.19.2->interpret-core==0.6.10->interpret-core[aplr,dash,debug,linear,notebook,plotly,sensitivity,shap]==0.6.10->interpret) (1.17.0)\n",
            "Requirement already satisfied: MarkupSafe>=2.1.1 in /usr/local/lib/python3.11/dist-packages (from Werkzeug<3.1->dash<3.0.0,>=1.0.0->interpret-core[aplr,dash,debug,linear,notebook,plotly,sensitivity,shap]==0.6.10->interpret) (3.0.2)\n",
            "Requirement already satisfied: zipp>=3.20 in /usr/local/lib/python3.11/dist-packages (from importlib-metadata->dash<3.0.0,>=1.0.0->interpret-core[aplr,dash,debug,linear,notebook,plotly,sensitivity,shap]==0.6.10->interpret) (3.21.0)\n",
            "Requirement already satisfied: platformdirs>=2.5 in /usr/local/lib/python3.11/dist-packages (from jupyter-core>=4.6.0->jupyter-client>=6.1.12->ipykernel>=4.10.0->interpret-core[aplr,dash,debug,linear,notebook,plotly,sensitivity,shap]==0.6.10->interpret) (4.3.7)\n",
            "Requirement already satisfied: xgboost in /usr/local/lib/python3.11/dist-packages (2.1.4)\n",
            "Requirement already satisfied: numpy in /usr/local/lib/python3.11/dist-packages (from xgboost) (2.0.2)\n",
            "Requirement already satisfied: nvidia-nccl-cu12 in /usr/local/lib/python3.11/dist-packages (from xgboost) (2.21.5)\n",
            "Requirement already satisfied: scipy in /usr/local/lib/python3.11/dist-packages (from xgboost) (1.14.1)\n"
          ]
        }
      ]
    },
    {
      "cell_type": "code",
      "execution_count": 2,
      "id": "4baedf75",
      "metadata": {
        "scrolled": true,
        "id": "4baedf75"
      },
      "outputs": [],
      "source": [
        "from interpret.glassbox import ExplainableBoostingClassifier      # interpret ebm class\n",
        "from interpret.perf import ROC                                    # ROC measure for ebm\n",
        "import numpy as np                                                # for basic array manipulation\n",
        "import pandas as pd                                               # for dataframe manipulation\n",
        "import time                                                       # for timers\n",
        "\n",
        "# plotting functionality\n",
        "import matplotlib.pyplot as plt\n",
        "from matplotlib.lines import Line2D # necessary for custom legends\n",
        "\n",
        "# display plots in notebook\n",
        "%matplotlib inline\n",
        "\n",
        "# set numpy random seed for better reproducibility\n",
        "SEED = 12345\n",
        "np.random.seed(SEED)\n",
        "\n",
        "# set number of threads\n",
        "NTHREAD = 4"
      ]
    },
    {
      "cell_type": "markdown",
      "id": "152e8474",
      "metadata": {
        "id": "152e8474"
      },
      "source": [
        "#### Start global timer"
      ]
    },
    {
      "cell_type": "code",
      "execution_count": 3,
      "id": "110ae3e4",
      "metadata": {
        "id": "110ae3e4"
      },
      "outputs": [],
      "source": [
        "tic = time.time()"
      ]
    },
    {
      "cell_type": "markdown",
      "id": "e36c81fd",
      "metadata": {
        "id": "e36c81fd"
      },
      "source": [
        "#### Import data"
      ]
    },
    {
      "cell_type": "code",
      "source": [
        "from google.colab import drive\n",
        "drive.mount('/content/drive/', force_remount=True)\n",
        "# may need to be updated to location on your drive\n",
        "%cd drive/My\\ Drive/DNSC_6330_Software/"
      ],
      "metadata": {
        "colab": {
          "base_uri": "https://localhost:8080/"
        },
        "id": "HOHx3Nnn2_zh",
        "outputId": "af88acff-eae1-4c7e-8cd2-a11721d7e6ff"
      },
      "id": "HOHx3Nnn2_zh",
      "execution_count": 4,
      "outputs": [
        {
          "output_type": "stream",
          "name": "stdout",
          "text": [
            "Mounted at /content/drive/\n",
            "/content/drive/My Drive/DNSC_6330_Software\n"
          ]
        }
      ]
    },
    {
      "cell_type": "code",
      "execution_count": 5,
      "id": "36898e3f",
      "metadata": {
        "id": "36898e3f"
      },
      "outputs": [],
      "source": [
        "import pandas as pd\n",
        "\n",
        "data = pd.read_csv('/content/drive/MyDrive/DNSC_6330_Software/data/hmda_train_preprocessed.csv')"
      ]
    },
    {
      "cell_type": "markdown",
      "id": "02f780ca",
      "metadata": {
        "id": "02f780ca"
      },
      "source": [
        "#### Assign basic modeling roles"
      ]
    },
    {
      "cell_type": "code",
      "execution_count": 6,
      "id": "374364cd",
      "metadata": {
        "id": "374364cd"
      },
      "outputs": [],
      "source": [
        "y_name = 'high_priced'"
      ]
    },
    {
      "cell_type": "markdown",
      "id": "2bd91ac7",
      "metadata": {
        "id": "2bd91ac7"
      },
      "source": [
        "## Fit interpretable model"
      ]
    },
    {
      "cell_type": "markdown",
      "id": "b63c7465",
      "metadata": {
        "id": "b63c7465"
      },
      "source": [
        "#### Split data into train and validation partitions"
      ]
    },
    {
      "cell_type": "code",
      "execution_count": 7,
      "id": "d82faabc",
      "metadata": {
        "scrolled": true,
        "colab": {
          "base_uri": "https://localhost:8080/"
        },
        "id": "d82faabc",
        "outputId": "12a18779-a98f-4014-9e3b-3a954478cb6b"
      },
      "outputs": [
        {
          "output_type": "stream",
          "name": "stdout",
          "text": [
            "Train data rows = 112253, columns = 23\n",
            "Validation data rows = 48085, columns = 23\n"
          ]
        }
      ],
      "source": [
        "np.random.seed(SEED) # preserve exact reproducibility for this cell\n",
        "\n",
        "split_ratio = 0.7 # 70%/30% train/test split\n",
        "\n",
        "# execute split\n",
        "split = np.random.rand(len(data)) < split_ratio\n",
        "train = data[split]\n",
        "valid = data[~split]\n",
        "\n",
        "# summarize split\n",
        "print('Train data rows = %d, columns = %d' % (train.shape[0], train.shape[1]))\n",
        "print('Validation data rows = %d, columns = %d' % (valid.shape[0], valid.shape[1]))\n",
        "\n",
        "# benchmark - Train data rows = 112253, columns = 23\n",
        "# benchmark - Validation data rows = 48085, columns = 23"
      ]
    },
    {
      "cell_type": "markdown",
      "id": "348b7fb0",
      "metadata": {
        "id": "348b7fb0"
      },
      "source": [
        "### Explainable Boosting Machine"
      ]
    },
    {
      "cell_type": "markdown",
      "id": "df03ff02",
      "metadata": {
        "id": "df03ff02"
      },
      "source": [
        "#### Retrain most accurate model above 0.8 AIR to debug"
      ]
    },
    {
      "cell_type": "code",
      "execution_count": 8,
      "id": "363c0f63",
      "metadata": {
        "colab": {
          "base_uri": "https://localhost:8080/"
        },
        "id": "363c0f63",
        "outputId": "ba68ad22-fdde-438e-db75-63543122c1e0"
      },
      "outputs": [
        {
          "output_type": "stream",
          "name": "stdout",
          "text": [
            "Remediated EBM retrained with AUC: 0.7374.\n"
          ]
        }
      ],
      "source": [
        "# params dict for remediated models\n",
        "rem_params = {'max_bins': 256,\n",
        " 'max_interaction_bins': 16,\n",
        " 'interactions': 15,\n",
        " 'outer_bags': 8,\n",
        " 'inner_bags': 4,\n",
        " 'learning_rate': 0.05,\n",
        " 'validation_size': 0.1,\n",
        " 'min_samples_leaf': 10,\n",
        " 'max_leaves': 3,\n",
        " 'n_jobs': 4,\n",
        " 'early_stopping_rounds': 100,\n",
        " 'random_state': 10001}\n",
        "\n",
        "rem_x_names = ['no_intro_rate_period_std',\n",
        " 'debt_to_income_ratio_missing',\n",
        " 'income_std',\n",
        " 'term_360',\n",
        " 'conforming',\n",
        " 'debt_to_income_ratio_std',\n",
        " 'loan_amount_std']\n",
        "\n",
        "# reset some parameters to integers\n",
        "rem_params['random_state'] = int(rem_params['random_state'])\n",
        "rem_params['n_jobs'] = int(rem_params['n_jobs'])\n",
        "rem_params['early_stopping_rounds'] = int(rem_params['early_stopping_rounds'])\n",
        "\n",
        "# retrain\n",
        "rem_ebm = ExplainableBoostingClassifier(**rem_params)\n",
        "rem_ebm.fit(train[rem_x_names], train[y_name])\n",
        "rem_ebm_perf = ROC(rem_ebm.predict_proba).explain_perf(valid[rem_x_names], valid[y_name])\n",
        "rem_auc = rem_ebm_perf._internal_obj['overall']['auc']\n",
        "print('Remediated EBM retrained with AUC: %.4f.' % rem_auc)"
      ]
    },
    {
      "cell_type": "markdown",
      "id": "cfb8c431",
      "metadata": {
        "id": "cfb8c431"
      },
      "source": [
        "## Sensitivity Analysis: Stress Testing"
      ]
    },
    {
      "cell_type": "markdown",
      "id": "dbddbe49",
      "metadata": {
        "id": "dbddbe49"
      },
      "source": [
        "#### Simulate recession conditions in validation data"
      ]
    },
    {
      "cell_type": "code",
      "execution_count": 9,
      "id": "5ccac210",
      "metadata": {
        "colab": {
          "base_uri": "https://localhost:8080/",
          "height": 1000
        },
        "id": "5ccac210",
        "outputId": "38c24ce6-7462-4fc9-f15c-78e08c3b2a84"
      },
      "outputs": [
        {
          "output_type": "display_data",
          "data": {
            "text/plain": [
              "<Figure size 1500x1500 with 9 Axes>"
            ],
            "image/png": "[encoded data removed]"
          },
          "metadata": {}
        }
      ],
      "source": [
        "np.random.seed(SEED) # set seed for this cell\n",
        "\n",
        "rec_valid = valid.copy(deep=True) # deep copy of validation data\n",
        "\n",
        "# use severity variable to control how many customers are affected\n",
        "severity = 0.1\n",
        "affected = np.random.rand(len(rec_valid)) < severity\n",
        "\n",
        "# decrease property values by 5%\n",
        "rec_valid.loc[affected, 'property_value_std'] = rec_valid.loc[affected, 'property_value_std'] * 0.95\n",
        "\n",
        "# less intro rates\n",
        "rec_valid.loc[affected, 'no_intro_rate_period_std'] = 0.2443944\n",
        "\n",
        "# lower loan amounts by 5%\n",
        "rec_valid.loc[affected, 'loan_amount_std'] = rec_valid.loc[affected, 'loan_amount_std'] * 0.95\n",
        "\n",
        "# lower income by 5%\n",
        "rec_valid.loc[affected, 'income_std'] = rec_valid.loc[affected, 'income_std'] * 0.95\n",
        "\n",
        "# less conforming loans\n",
        "rec_valid.loc[affected, 'conforming'] = 0\n",
        "\n",
        "# shorter intro rate periods\n",
        "rec_valid.loc[affected, 'intro_rate_period_std'] = rec_valid.loc[affected, 'intro_rate_period_std'] * 0.95\n",
        "\n",
        "# 5% higher debt-to-income ratios\n",
        "rec_valid.loc[affected, 'debt_to_income_ratio_std'] = rec_valid.loc[affected, 'debt_to_income_ratio_std'] * 1.05\n",
        "\n",
        "# more long loans\n",
        "rec_valid.loc[affected, 'term_360'] = 1\n",
        "\n",
        "# update target\n",
        "rec_valid.loc[affected, y_name] = np.random.choice(2, len(rec_valid.loc[affected, y_name]))\n",
        "\n",
        "# visualize results\n",
        "_ = rec_valid[rem_x_names + [y_name]].hist(bins=50, figsize=(15, 15))"
      ]
    },
    {
      "cell_type": "markdown",
      "id": "063c0d9a",
      "metadata": {
        "id": "063c0d9a"
      },
      "source": [
        "#### Find AUC for best model in simulated recession conditions"
      ]
    },
    {
      "cell_type": "code",
      "execution_count": 10,
      "id": "d07eec8c",
      "metadata": {
        "colab": {
          "base_uri": "https://localhost:8080/"
        },
        "id": "d07eec8c",
        "outputId": "8333d0f8-3298-46d0-e8da-9ca7bbed54a2"
      },
      "outputs": [
        {
          "output_type": "stream",
          "name": "stdout",
          "text": [
            "Remediated EBM retrained with AUC: 0.5895.\n"
          ]
        }
      ],
      "source": [
        "rec_rem_ebm_perf = ROC(rem_ebm.predict_proba).explain_perf(rec_valid[rem_x_names], rec_valid[y_name])\n",
        "rec_rem_auc = rec_rem_ebm_perf._internal_obj['overall']['auc']\n",
        "print('Remediated EBM retrained with AUC: %.4f.' % rec_rem_auc)"
      ]
    },
    {
      "cell_type": "markdown",
      "id": "f47d17d8",
      "metadata": {
        "id": "f47d17d8"
      },
      "source": [
        "Note the major drop in performance for recession conditions, which is normal for all models and usually worse for complex ML models. It's not unlikely that the more constrained monotonic GBM or penalized GLM could perform better in these conditions.\n",
        "\n",
        "Also, this tells us we need to monitor this model carefully, because when recession conditions begin, this model will fail quickly."
      ]
    },
    {
      "cell_type": "markdown",
      "id": "db549da5",
      "metadata": {
        "id": "db549da5"
      },
      "source": [
        "## Residual Analysis"
      ]
    },
    {
      "cell_type": "markdown",
      "id": "e133d56b",
      "metadata": {
        "id": "e133d56b"
      },
      "source": [
        "#### Calculate predictions and logloss residuals for all data"
      ]
    },
    {
      "cell_type": "code",
      "execution_count": 11,
      "id": "ad6178f9",
      "metadata": {
        "id": "ad6178f9"
      },
      "outputs": [],
      "source": [
        "# shortcut names\n",
        "yhat_name = 'phat'\n",
        "r_name = 'r'\n",
        "\n",
        "# calculate predictions\n",
        "rem_ebm_phat = pd.DataFrame(rem_ebm.predict_proba(data[rem_x_names])[:, 1], columns=['phat'])\n",
        "rem_ebm_phat = pd.concat([data.reset_index(drop=True), rem_ebm_phat], axis=1)\n",
        "\n",
        "# calculate logloss residuals\n",
        "rem_ebm_phat[r_name] = -rem_ebm_phat[y_name]*np.log(rem_ebm_phat[yhat_name]) -\\\n",
        "                       (1 - rem_ebm_phat[y_name])*np.log(1 - rem_ebm_phat[yhat_name])"
      ]
    },
    {
      "cell_type": "markdown",
      "id": "466b7643",
      "metadata": {
        "id": "466b7643"
      },
      "source": [
        "#### Plot residuals"
      ]
    },
    {
      "cell_type": "code",
      "execution_count": 12,
      "id": "cb1268d0",
      "metadata": {
        "colab": {
          "base_uri": "https://localhost:8080/",
          "height": 718
        },
        "id": "cb1268d0",
        "outputId": "955196da-5535-4790-ac59-13b9252baf80"
      },
      "outputs": [
        {
          "output_type": "display_data",
          "data": {
            "text/plain": [
              "<Figure size 800x800 with 1 Axes>"
            ],
            "image/png": "[encoded data removed]"
          },
          "metadata": {}
        }
      ],
      "source": [
        "# initialize figure\n",
        "fig, ax_ = plt.subplots(figsize=(8, 8))\n",
        "\n",
        "# plot groups with appropriate color\n",
        "color_list = ['royalblue', 'magenta']\n",
        "c_idx = 0\n",
        "groups = rem_ebm_phat.groupby(y_name) # define groups for levels of PAY_0\n",
        "for name, group in groups:\n",
        "    ax_.plot(group.phat, group.r,\n",
        "             label=' '.join([y_name, str(name)]),\n",
        "             marker='o', linestyle='', color=color_list[c_idx], alpha=0.3)\n",
        "    c_idx += 1\n",
        "\n",
        "# annotate plot\n",
        "_ = plt.xlabel(yhat_name)\n",
        "_ = plt.ylabel(r_name)\n",
        "_ = ax_.legend(loc=1)\n",
        "_ = plt.title('Global Logloss Residuals')"
      ]
    },
    {
      "cell_type": "markdown",
      "id": "032a2279",
      "metadata": {
        "id": "032a2279"
      },
      "source": [
        "Residuals are very unbalanced. This model struggles to predict when customers will recieve a high-priced loan correctly. It does much better when predicting customers will NOT receive a high-priced loan. There are also some very noticable outliers."
      ]
    },
    {
      "cell_type": "markdown",
      "id": "34d57885",
      "metadata": {
        "id": "34d57885"
      },
      "source": [
        "## Remediation: Remove Outliers"
      ]
    },
    {
      "cell_type": "markdown",
      "id": "a77f9847",
      "metadata": {
        "id": "a77f9847"
      },
      "source": [
        "#### Find outliers"
      ]
    },
    {
      "cell_type": "code",
      "execution_count": 13,
      "id": "8785a979",
      "metadata": {
        "colab": {
          "base_uri": "https://localhost:8080/",
          "height": 255
        },
        "id": "8785a979",
        "outputId": "ad618d56-9d8b-4765-ae55-d75c91d253a0"
      },
      "outputs": [
        {
          "output_type": "execute_result",
          "data": {
            "text/plain": [
              "        row_id  black  asian  white  amind  hipac  hispanic  non_hispanic  \\\n",
              "110822  110822    0.0    1.0    0.0    0.0    0.0       0.0           1.0   \n",
              "83113    83113    0.0    0.0    1.0    0.0    0.0       1.0           0.0   \n",
              "121375  121375    NaN    NaN    NaN    NaN    NaN       NaN           NaN   \n",
              "9460      9460    0.0    0.0    1.0    0.0    0.0       0.0           1.0   \n",
              "77412    77412    0.0    0.0    1.0    0.0    0.0       0.0           1.0   \n",
              "\n",
              "        male  female  ...  loan_amount_std  loan_to_value_ratio_std  \\\n",
              "110822   0.0     1.0  ...         0.892723                -0.874794   \n",
              "83113    1.0     0.0  ...         0.760806                -0.277030   \n",
              "121375   NaN     NaN  ...         8.851722                -0.249258   \n",
              "9460     NaN     NaN  ...         1.420391                 0.139259   \n",
              "77412    0.0     1.0  ...         1.596281                 0.162059   \n",
              "\n",
              "        no_intro_rate_period_std  intro_rate_period_std  property_value_std  \\\n",
              "110822                  0.244394              -0.215304            1.252485   \n",
              "83113                   0.244394              -0.215304            0.697459   \n",
              "121375                  0.244394              -0.215304            7.758622   \n",
              "9460                    0.244394              -0.215304            1.005806   \n",
              "77412                   0.244394              -0.215304            1.129146   \n",
              "\n",
              "        income_std  debt_to_income_ratio_std  high_priced      phat         r  \n",
              "110822   -0.007738                 -1.156406            1  0.000536  7.530829  \n",
              "83113     0.017208                 -0.059493            1  0.000934  6.975659  \n",
              "121375    0.579546                 -2.527547            1  0.001177  6.745011  \n",
              "9460      0.033493                 -1.156406            1  0.002794  5.880187  \n",
              "77412     0.013744                 -0.425131            1  0.002869  5.853811  \n",
              "\n",
              "[5 rows x 25 columns]"
            ],
            "text/html": [
              "\n",
              "  <div id=\"df-569e9319-d4fb-47b7-a0c6-efe01ee63354\" class=\"colab-df-container\">\n",
              "    <div>\n",
              "<style scoped>\n",
              "    .dataframe tbody tr th:only-of-type {\n",
              "        vertical-align: middle;\n",
              "    }\n",
              "\n",
              "    .dataframe tbody tr th {\n",
              "        vertical-align: top;\n",
              "    }\n",
              "\n",
              "    .dataframe thead th {\n",
              "        text-align: right;\n",
              "    }\n",
              "</style>\n",
              "<table border=\"1\" class=\"dataframe\">\n",
              "  <thead>\n",
              "    <tr style=\"text-align: right;\">\n",
              "      <th></th>\n",
              "      <th>row_id</th>\n",
              "      <th>black</th>\n",
              "      <th>asian</th>\n",
              "      <th>white</th>\n",
              "      <th>amind</th>\n",
              "      <th>hipac</th>\n",
              "      <th>hispanic</th>\n",
              "      <th>non_hispanic</th>\n",
              "      <th>male</th>\n",
              "      <th>female</th>\n",
              "      <th>...</th>\n",
              "      <th>loan_amount_std</th>\n",
              "      <th>loan_to_value_ratio_std</th>\n",
              "      <th>no_intro_rate_period_std</th>\n",
              "      <th>intro_rate_period_std</th>\n",
              "      <th>property_value_std</th>\n",
              "      <th>income_std</th>\n",
              "      <th>debt_to_income_ratio_std</th>\n",
              "      <th>high_priced</th>\n",
              "      <th>phat</th>\n",
              "      <th>r</th>\n",
              "    </tr>\n",
              "  </thead>\n",
              "  <tbody>\n",
              "    <tr>\n",
              "      <th>110822</th>\n",
              "      <td>110822</td>\n",
              "      <td>0.0</td>\n",
              "      <td>1.0</td>\n",
              "      <td>0.0</td>\n",
              "      <td>0.0</td>\n",
              "      <td>0.0</td>\n",
              "      <td>0.0</td>\n",
              "      <td>1.0</td>\n",
              "      <td>0.0</td>\n",
              "      <td>1.0</td>\n",
              "      <td>...</td>\n",
              "      <td>0.892723</td>\n",
              "      <td>-0.874794</td>\n",
              "      <td>0.244394</td>\n",
              "      <td>-0.215304</td>\n",
              "      <td>1.252485</td>\n",
              "      <td>-0.007738</td>\n",
              "      <td>-1.156406</td>\n",
              "      <td>1</td>\n",
              "      <td>0.000536</td>\n",
              "      <td>7.530829</td>\n",
              "    </tr>\n",
              "    <tr>\n",
              "      <th>83113</th>\n",
              "      <td>83113</td>\n",
              "      <td>0.0</td>\n",
              "      <td>0.0</td>\n",
              "      <td>1.0</td>\n",
              "      <td>0.0</td>\n",
              "      <td>0.0</td>\n",
              "      <td>1.0</td>\n",
              "      <td>0.0</td>\n",
              "      <td>1.0</td>\n",
              "      <td>0.0</td>\n",
              "      <td>...</td>\n",
              "      <td>0.760806</td>\n",
              "      <td>-0.277030</td>\n",
              "      <td>0.244394</td>\n",
              "      <td>-0.215304</td>\n",
              "      <td>0.697459</td>\n",
              "      <td>0.017208</td>\n",
              "      <td>-0.059493</td>\n",
              "      <td>1</td>\n",
              "      <td>0.000934</td>\n",
              "      <td>6.975659</td>\n",
              "    </tr>\n",
              "    <tr>\n",
              "      <th>121375</th>\n",
              "      <td>121375</td>\n",
              "      <td>NaN</td>\n",
              "      <td>NaN</td>\n",
              "      <td>NaN</td>\n",
              "      <td>NaN</td>\n",
              "      <td>NaN</td>\n",
              "      <td>NaN</td>\n",
              "      <td>NaN</td>\n",
              "      <td>NaN</td>\n",
              "      <td>NaN</td>\n",
              "      <td>...</td>\n",
              "      <td>8.851722</td>\n",
              "      <td>-0.249258</td>\n",
              "      <td>0.244394</td>\n",
              "      <td>-0.215304</td>\n",
              "      <td>7.758622</td>\n",
              "      <td>0.579546</td>\n",
              "      <td>-2.527547</td>\n",
              "      <td>1</td>\n",
              "      <td>0.001177</td>\n",
              "      <td>6.745011</td>\n",
              "    </tr>\n",
              "    <tr>\n",
              "      <th>9460</th>\n",
              "      <td>9460</td>\n",
              "      <td>0.0</td>\n",
              "      <td>0.0</td>\n",
              "      <td>1.0</td>\n",
              "      <td>0.0</td>\n",
              "      <td>0.0</td>\n",
              "      <td>0.0</td>\n",
              "      <td>1.0</td>\n",
              "      <td>NaN</td>\n",
              "      <td>NaN</td>\n",
              "      <td>...</td>\n",
              "      <td>1.420391</td>\n",
              "      <td>0.139259</td>\n",
              "      <td>0.244394</td>\n",
              "      <td>-0.215304</td>\n",
              "      <td>1.005806</td>\n",
              "      <td>0.033493</td>\n",
              "      <td>-1.156406</td>\n",
              "      <td>1</td>\n",
              "      <td>0.002794</td>\n",
              "      <td>5.880187</td>\n",
              "    </tr>\n",
              "    <tr>\n",
              "      <th>77412</th>\n",
              "      <td>77412</td>\n",
              "      <td>0.0</td>\n",
              "      <td>0.0</td>\n",
              "      <td>1.0</td>\n",
              "      <td>0.0</td>\n",
              "      <td>0.0</td>\n",
              "      <td>0.0</td>\n",
              "      <td>1.0</td>\n",
              "      <td>0.0</td>\n",
              "      <td>1.0</td>\n",
              "      <td>...</td>\n",
              "      <td>1.596281</td>\n",
              "      <td>0.162059</td>\n",
              "      <td>0.244394</td>\n",
              "      <td>-0.215304</td>\n",
              "      <td>1.129146</td>\n",
              "      <td>0.013744</td>\n",
              "      <td>-0.425131</td>\n",
              "      <td>1</td>\n",
              "      <td>0.002869</td>\n",
              "      <td>5.853811</td>\n",
              "    </tr>\n",
              "  </tbody>\n",
              "</table>\n",
              "<p>5 rows × 25 columns</p>\n",
              "</div>\n",
              "    <div class=\"colab-df-buttons\">\n",
              "\n",
              "  <div class=\"colab-df-container\">\n",
              "    <button class=\"colab-df-convert\" onclick=\"convertToInteractive('df-569e9319-d4fb-47b7-a0c6-efe01ee63354')\"\n",
              "            title=\"Convert this dataframe to an interactive table.\"\n",
              "            style=\"display:none;\">\n",
              "\n",
              "  <svg xmlns=\"http://www.w3.org/2000/svg\" height=\"24px\" viewBox=\"0 -960 960 960\">\n",
              "    <path d=\"M120-120v-720h720v720H120Zm60-500h600v-160H180v160Zm220 220h160v-160H400v160Zm0 220h160v-160H400v160ZM180-400h160v-160H180v160Zm440 0h160v-160H620v160ZM180-180h160v-160H180v160Zm440 0h160v-160H620v160Z\"/>\n",
              "  </svg>\n",
              "    </button>\n",
              "\n",
              "  <style>\n",
              "    .colab-df-container {\n",
              "      display:flex;\n",
              "      gap: 12px;\n",
              "    }\n",
              "\n",
              "    .colab-df-convert {\n",
              "      background-color: #E8F0FE;\n",
              "      border: none;\n",
              "      border-radius: 50%;\n",
              "      cursor: pointer;\n",
              "      display: none;\n",
              "      fill: #1967D2;\n",
              "      height: 32px;\n",
              "      padding: 0 0 0 0;\n",
              "      width: 32px;\n",
              "    }\n",
              "\n",
              "    .colab-df-convert:hover {\n",
              "      background-color: #E2EBFA;\n",
              "      box-shadow: 0px 1px 2px rgba(60, 64, 67, 0.3), 0px 1px 3px 1px rgba(60, 64, 67, 0.15);\n",
              "      fill: #174EA6;\n",
              "    }\n",
              "\n",
              "    .colab-df-buttons div {\n",
              "      margin-bottom: 4px;\n",
              "    }\n",
              "\n",
              "    [theme=dark] .colab-df-convert {\n",
              "      background-color: #3B4455;\n",
              "      fill: #D2E3FC;\n",
              "    }\n",
              "\n",
              "    [theme=dark] .colab-df-convert:hover {\n",
              "      background-color: #434B5C;\n",
              "      box-shadow: 0px 1px 3px 1px rgba(0, 0, 0, 0.15);\n",
              "      filter: drop-shadow(0px 1px 2px rgba(0, 0, 0, 0.3));\n",
              "      fill: #FFFFFF;\n",
              "    }\n",
              "  </style>\n",
              "\n",
              "    <script>\n",
              "      const buttonEl =\n",
              "        document.querySelector('#df-569e9319-d4fb-47b7-a0c6-efe01ee63354 button.colab-df-convert');\n",
              "      buttonEl.style.display =\n",
              "        google.colab.kernel.accessAllowed ? 'block' : 'none';\n",
              "\n",
              "      async function convertToInteractive(key) {\n",
              "        const element = document.querySelector('#df-569e9319-d4fb-47b7-a0c6-efe01ee63354');\n",
              "        const dataTable =\n",
              "          await google.colab.kernel.invokeFunction('convertToInteractive',\n",
              "                                                    [key], {});\n",
              "        if (!dataTable) return;\n",
              "\n",
              "        const docLinkHtml = 'Like what you see? Visit the ' +\n",
              "          '<a target=\"_blank\" href=https://colab.research.google.com/notebooks/data_table.ipynb>data table notebook</a>'\n",
              "          + ' to learn more about interactive tables.';\n",
              "        element.innerHTML = '';\n",
              "        dataTable['output_type'] = 'display_data';\n",
              "        await google.colab.output.renderOutput(dataTable, element);\n",
              "        const docLink = document.createElement('div');\n",
              "        docLink.innerHTML = docLinkHtml;\n",
              "        element.appendChild(docLink);\n",
              "      }\n",
              "    </script>\n",
              "  </div>\n",
              "\n",
              "\n",
              "<div id=\"df-98fe0a37-d710-45a0-9a41-30f490b3e99e\">\n",
              "  <button class=\"colab-df-quickchart\" onclick=\"quickchart('df-98fe0a37-d710-45a0-9a41-30f490b3e99e')\"\n",
              "            title=\"Suggest charts\"\n",
              "            style=\"display:none;\">\n",
              "\n",
              "<svg xmlns=\"http://www.w3.org/2000/svg\" height=\"24px\"viewBox=\"0 0 24 24\"\n",
              "     width=\"24px\">\n",
              "    <g>\n",
              "        <path d=\"M19 3H5c-1.1 0-2 .9-2 2v14c0 1.1.9 2 2 2h14c1.1 0 2-.9 2-2V5c0-1.1-.9-2-2-2zM9 17H7v-7h2v7zm4 0h-2V7h2v10zm4 0h-2v-4h2v4z\"/>\n",
              "    </g>\n",
              "</svg>\n",
              "  </button>\n",
              "\n",
              "<style>\n",
              "  .colab-df-quickchart {\n",
              "      --bg-color: #E8F0FE;\n",
              "      --fill-color: #1967D2;\n",
              "      --hover-bg-color: #E2EBFA;\n",
              "      --hover-fill-color: #174EA6;\n",
              "      --disabled-fill-color: #AAA;\n",
              "      --disabled-bg-color: #DDD;\n",
              "  }\n",
              "\n",
              "  [theme=dark] .colab-df-quickchart {\n",
              "      --bg-color: #3B4455;\n",
              "      --fill-color: #D2E3FC;\n",
              "      --hover-bg-color: #434B5C;\n",
              "      --hover-fill-color: #FFFFFF;\n",
              "      --disabled-bg-color: #3B4455;\n",
              "      --disabled-fill-color: #666;\n",
              "  }\n",
              "\n",
              "  .colab-df-quickchart {\n",
              "    background-color: var(--bg-color);\n",
              "    border: none;\n",
              "    border-radius: 50%;\n",
              "    cursor: pointer;\n",
              "    display: none;\n",
              "    fill: var(--fill-color);\n",
              "    height: 32px;\n",
              "    padding: 0;\n",
              "    width: 32px;\n",
              "  }\n",
              "\n",
              "  .colab-df-quickchart:hover {\n",
              "    background-color: var(--hover-bg-color);\n",
              "    box-shadow: 0 1px 2px rgba(60, 64, 67, 0.3), 0 1px 3px 1px rgba(60, 64, 67, 0.15);\n",
              "    fill: var(--button-hover-fill-color);\n",
              "  }\n",
              "\n",
              "  .colab-df-quickchart-complete:disabled,\n",
              "  .colab-df-quickchart-complete:disabled:hover {\n",
              "    background-color: var(--disabled-bg-color);\n",
              "    fill: var(--disabled-fill-color);\n",
              "    box-shadow: none;\n",
              "  }\n",
              "\n",
              "  .colab-df-spinner {\n",
              "    border: 2px solid var(--fill-color);\n",
              "    border-color: transparent;\n",
              "    border-bottom-color: var(--fill-color);\n",
              "    animation:\n",
              "      spin 1s steps(1) infinite;\n",
              "  }\n",
              "\n",
              "  @keyframes spin {\n",
              "    0% {\n",
              "      border-color: transparent;\n",
              "      border-bottom-color: var(--fill-color);\n",
              "      border-left-color: var(--fill-color);\n",
              "    }\n",
              "    20% {\n",
              "      border-color: transparent;\n",
              "      border-left-color: var(--fill-color);\n",
              "      border-top-color: var(--fill-color);\n",
              "    }\n",
              "    30% {\n",
              "      border-color: transparent;\n",
              "      border-left-color: var(--fill-color);\n",
              "      border-top-color: var(--fill-color);\n",
              "      border-right-color: var(--fill-color);\n",
              "    }\n",
              "    40% {\n",
              "      border-color: transparent;\n",
              "      border-right-color: var(--fill-color);\n",
              "      border-top-color: var(--fill-color);\n",
              "    }\n",
              "    60% {\n",
              "      border-color: transparent;\n",
              "      border-right-color: var(--fill-color);\n",
              "    }\n",
              "    80% {\n",
              "      border-color: transparent;\n",
              "      border-right-color: var(--fill-color);\n",
              "      border-bottom-color: var(--fill-color);\n",
              "    }\n",
              "    90% {\n",
              "      border-color: transparent;\n",
              "      border-bottom-color: var(--fill-color);\n",
              "    }\n",
              "  }\n",
              "</style>\n",
              "\n",
              "  <script>\n",
              "    async function quickchart(key) {\n",
              "      const quickchartButtonEl =\n",
              "        document.querySelector('#' + key + ' button');\n",
              "      quickchartButtonEl.disabled = true;  // To prevent multiple clicks.\n",
              "      quickchartButtonEl.classList.add('colab-df-spinner');\n",
              "      try {\n",
              "        const charts = await google.colab.kernel.invokeFunction(\n",
              "            'suggestCharts', [key], {});\n",
              "      } catch (error) {\n",
              "        console.error('Error during call to suggestCharts:', error);\n",
              "      }\n",
              "      quickchartButtonEl.classList.remove('colab-df-spinner');\n",
              "      quickchartButtonEl.classList.add('colab-df-quickchart-complete');\n",
              "    }\n",
              "    (() => {\n",
              "      let quickchartButtonEl =\n",
              "        document.querySelector('#df-98fe0a37-d710-45a0-9a41-30f490b3e99e button');\n",
              "      quickchartButtonEl.style.display =\n",
              "        google.colab.kernel.accessAllowed ? 'block' : 'none';\n",
              "    })();\n",
              "  </script>\n",
              "</div>\n",
              "\n",
              "    </div>\n",
              "  </div>\n"
            ],
            "application/vnd.google.colaboratory.intrinsic+json": {
              "type": "dataframe"
            }
          },
          "metadata": {},
          "execution_count": 13
        }
      ],
      "source": [
        "rem_ebm_phat.sort_values(by='r', ascending=False).head()"
      ]
    },
    {
      "cell_type": "markdown",
      "id": "9628f342",
      "metadata": {
        "id": "9628f342"
      },
      "source": [
        "#### Remove worst outliers"
      ]
    },
    {
      "cell_type": "code",
      "execution_count": 14,
      "id": "fca198d8",
      "metadata": {
        "id": "fca198d8"
      },
      "outputs": [],
      "source": [
        "n_remove = 10\n",
        "rem_data = data.copy(deep=True)\n",
        "rem_data.drop(list(rem_ebm_phat.sort_values(by='r', ascending=False).head(n=n_remove).index), axis=0, inplace=True)"
      ]
    },
    {
      "cell_type": "markdown",
      "id": "9d8e9079",
      "metadata": {
        "id": "9d8e9079"
      },
      "source": [
        "## Remediation: Down-sample to Increase Signal from High-priced Loans"
      ]
    },
    {
      "cell_type": "code",
      "execution_count": 15,
      "id": "ec5f3a62",
      "metadata": {
        "id": "ec5f3a62"
      },
      "outputs": [],
      "source": [
        "inverse_proportion_remove = 2 # corresponds to keeping 1 - (1/inverse_proportion_remove) rows\n",
        "rem_data.drop(list(rem_data[rem_data[y_name] == 0].index)[::inverse_proportion_remove], axis=0, inplace=True)"
      ]
    },
    {
      "cell_type": "markdown",
      "id": "bf4de784",
      "metadata": {
        "id": "bf4de784"
      },
      "source": [
        "#### Retrain remediated EBM"
      ]
    },
    {
      "cell_type": "code",
      "execution_count": 16,
      "id": "bc5ffaac",
      "metadata": {
        "colab": {
          "base_uri": "https://localhost:8080/"
        },
        "id": "bc5ffaac",
        "outputId": "8a1766b0-ce71-43df-8945-e1c8dc79a7b3"
      },
      "outputs": [
        {
          "output_type": "stream",
          "name": "stdout",
          "text": [
            "Remediated train data rows = 61518, columns = 23\n",
            "Remediated validation data rows = 26393, columns = 23\n",
            "Remediated EBM under-sampled AUC: 0.7360.\n"
          ]
        }
      ],
      "source": [
        "np.random.seed(SEED) # preserve exact reproducibility for this cell\n",
        "\n",
        "# execute split\n",
        "split = np.random.rand(len(rem_data)) < split_ratio\n",
        "rem_train = rem_data[split]\n",
        "rem_valid = rem_data[~split]\n",
        "\n",
        "# summarize split\n",
        "print('Remediated train data rows = %d, columns = %d' % (rem_train.shape[0], rem_train.shape[1]))\n",
        "print('Remediated validation data rows = %d, columns = %d' % (rem_valid.shape[0], rem_valid.shape[1]))\n",
        "\n",
        "# retrain\n",
        "rem_ebm2 = ExplainableBoostingClassifier(**rem_params)\n",
        "rem_ebm2.fit(rem_train[rem_x_names], rem_train[y_name])\n",
        "rem_ebm_perf2 = ROC(rem_ebm2.predict_proba).explain_perf(rem_valid[rem_x_names], rem_valid[y_name])\n",
        "rem_auc2 = rem_ebm_perf2._internal_obj['overall']['auc']\n",
        "print('Remediated EBM under-sampled AUC: %.4f.' % rem_auc2)"
      ]
    },
    {
      "cell_type": "code",
      "source": [
        "from interpret.glassbox import ExplainableBoostingClassifier\n",
        "from sklearn.model_selection import ParameterSampler\n",
        "from sklearn.metrics import roc_auc_score\n",
        "\n",
        "# Parameter grid for grid search\n",
        "param_grid = {'max_bins': [128, 256, 512],\n",
        "             'max_interaction_bins': [16, 32, 64],\n",
        "             'interactions': [5, 10, 15],\n",
        "             'outer_bags': [4, 8, 12],\n",
        "             'inner_bags': [0, 4],\n",
        "             'learning_rate': [0.001, 0.01, 0.05],\n",
        "             'validation_size': [0.1, 0.25, 0.5],\n",
        "             'min_samples_leaf': [1, 2, 5, 10],\n",
        "             'max_leaves': [1, 3, 5]}\n",
        "\n",
        "# Run grid search on cleaned data (rem_train, rem_valid)\n",
        "SEED = 3355\n",
        "n_models = 50\n",
        "param_list = list(ParameterSampler(param_grid, n_iter=n_models, random_state=SEED))\n",
        "\n",
        "best_auc = 0\n",
        "best_model = None\n",
        "best_params = None\n",
        "\n",
        "for i, params in enumerate(param_list):\n",
        "    print(f\"\\nGrid search run {i+1}/{n_models}\")\n",
        "    print(\"Training with parameters:\", params)\n",
        "    model = ExplainableBoostingClassifier(**params)\n",
        "    model.fit(rem_train[rem_x_names], rem_train[y_name])\n",
        "    preds = model.predict_proba(rem_valid[rem_x_names])[:, 1]\n",
        "    auc = roc_auc_score(rem_valid[y_name], preds)\n",
        "    print(f\"AUC: {auc:.4f}\")\n",
        "\n",
        "    if auc > best_auc:\n",
        "        best_auc = auc\n",
        "        best_model = model\n",
        "        best_params = params\n",
        "\n",
        "# Save best model and evaluate\n",
        "rem_ebm2 = best_model\n",
        "rem_ebm_perf2 = ROC(rem_ebm2.predict_proba).explain_perf(rem_valid[rem_x_names], rem_valid[y_name])\n",
        "rem_auc2 = rem_ebm_perf2._internal_obj['overall']['auc']\n",
        "print('Best grid-searched EBM AUC on cleaned data: %.4f' % rem_auc2)\n",
        "\n"
      ],
      "metadata": {
        "colab": {
          "base_uri": "https://localhost:8080/"
        },
        "id": "dPatBnkLMT74",
        "outputId": "5f5a0f1b-8c6a-44d3-9cd5-10dd34fed907"
      },
      "id": "dPatBnkLMT74",
      "execution_count": 17,
      "outputs": [
        {
          "output_type": "stream",
          "name": "stdout",
          "text": [
            "\n",
            "Grid search run 1/50\n",
            "Training with parameters: {'validation_size': 0.1, 'outer_bags': 12, 'min_samples_leaf': 1, 'max_leaves': 3, 'max_interaction_bins': 32, 'max_bins': 512, 'learning_rate': 0.01, 'interactions': 10, 'inner_bags': 4}\n",
            "AUC: 0.7365\n",
            "\n",
            "Grid search run 2/50\n",
            "Training with parameters: {'validation_size': 0.1, 'outer_bags': 4, 'min_samples_leaf': 5, 'max_leaves': 5, 'max_interaction_bins': 32, 'max_bins': 256, 'learning_rate': 0.01, 'interactions': 5, 'inner_bags': 4}\n",
            "AUC: 0.7341\n",
            "\n",
            "Grid search run 3/50\n",
            "Training with parameters: {'validation_size': 0.1, 'outer_bags': 4, 'min_samples_leaf': 10, 'max_leaves': 1, 'max_interaction_bins': 64, 'max_bins': 128, 'learning_rate': 0.001, 'interactions': 15, 'inner_bags': 4}\n",
            "AUC: 0.5000\n",
            "\n",
            "Grid search run 4/50\n",
            "Training with parameters: {'validation_size': 0.25, 'outer_bags': 4, 'min_samples_leaf': 5, 'max_leaves': 5, 'max_interaction_bins': 16, 'max_bins': 512, 'learning_rate': 0.01, 'interactions': 10, 'inner_bags': 4}\n",
            "AUC: 0.7348\n",
            "\n",
            "Grid search run 5/50\n",
            "Training with parameters: {'validation_size': 0.5, 'outer_bags': 4, 'min_samples_leaf': 1, 'max_leaves': 5, 'max_interaction_bins': 32, 'max_bins': 256, 'learning_rate': 0.001, 'interactions': 10, 'inner_bags': 0}\n",
            "AUC: 0.7357\n",
            "\n",
            "Grid search run 6/50\n",
            "Training with parameters: {'validation_size': 0.1, 'outer_bags': 12, 'min_samples_leaf': 10, 'max_leaves': 3, 'max_interaction_bins': 64, 'max_bins': 512, 'learning_rate': 0.001, 'interactions': 10, 'inner_bags': 4}\n",
            "AUC: 0.7363\n",
            "\n",
            "Grid search run 7/50\n",
            "Training with parameters: {'validation_size': 0.5, 'outer_bags': 8, 'min_samples_leaf': 10, 'max_leaves': 5, 'max_interaction_bins': 16, 'max_bins': 512, 'learning_rate': 0.05, 'interactions': 10, 'inner_bags': 4}\n",
            "AUC: 0.7339\n",
            "\n",
            "Grid search run 8/50\n",
            "Training with parameters: {'validation_size': 0.5, 'outer_bags': 4, 'min_samples_leaf': 10, 'max_leaves': 3, 'max_interaction_bins': 32, 'max_bins': 256, 'learning_rate': 0.01, 'interactions': 5, 'inner_bags': 0}\n",
            "AUC: 0.7359\n",
            "\n",
            "Grid search run 9/50\n",
            "Training with parameters: {'validation_size': 0.25, 'outer_bags': 12, 'min_samples_leaf': 5, 'max_leaves': 1, 'max_interaction_bins': 32, 'max_bins': 512, 'learning_rate': 0.01, 'interactions': 5, 'inner_bags': 4}\n",
            "AUC: 0.5000\n",
            "\n",
            "Grid search run 10/50\n",
            "Training with parameters: {'validation_size': 0.25, 'outer_bags': 12, 'min_samples_leaf': 1, 'max_leaves': 1, 'max_interaction_bins': 16, 'max_bins': 512, 'learning_rate': 0.001, 'interactions': 10, 'inner_bags': 0}\n",
            "AUC: 0.5000\n",
            "\n",
            "Grid search run 11/50\n",
            "Training with parameters: {'validation_size': 0.5, 'outer_bags': 4, 'min_samples_leaf': 5, 'max_leaves': 5, 'max_interaction_bins': 16, 'max_bins': 128, 'learning_rate': 0.01, 'interactions': 5, 'inner_bags': 0}\n",
            "AUC: 0.7343\n",
            "\n",
            "Grid search run 12/50\n",
            "Training with parameters: {'validation_size': 0.1, 'outer_bags': 4, 'min_samples_leaf': 1, 'max_leaves': 5, 'max_interaction_bins': 32, 'max_bins': 256, 'learning_rate': 0.001, 'interactions': 10, 'inner_bags': 4}\n",
            "AUC: 0.7361\n",
            "\n",
            "Grid search run 13/50\n",
            "Training with parameters: {'validation_size': 0.5, 'outer_bags': 4, 'min_samples_leaf': 1, 'max_leaves': 1, 'max_interaction_bins': 32, 'max_bins': 256, 'learning_rate': 0.05, 'interactions': 15, 'inner_bags': 4}\n",
            "AUC: 0.5000\n",
            "\n",
            "Grid search run 14/50\n",
            "Training with parameters: {'validation_size': 0.25, 'outer_bags': 12, 'min_samples_leaf': 1, 'max_leaves': 5, 'max_interaction_bins': 16, 'max_bins': 512, 'learning_rate': 0.05, 'interactions': 10, 'inner_bags': 0}\n",
            "AUC: 0.7341\n",
            "\n",
            "Grid search run 15/50\n",
            "Training with parameters: {'validation_size': 0.5, 'outer_bags': 8, 'min_samples_leaf': 1, 'max_leaves': 1, 'max_interaction_bins': 32, 'max_bins': 512, 'learning_rate': 0.01, 'interactions': 5, 'inner_bags': 0}\n",
            "AUC: 0.5000\n",
            "\n",
            "Grid search run 16/50\n",
            "Training with parameters: {'validation_size': 0.1, 'outer_bags': 4, 'min_samples_leaf': 5, 'max_leaves': 1, 'max_interaction_bins': 32, 'max_bins': 128, 'learning_rate': 0.01, 'interactions': 10, 'inner_bags': 4}\n",
            "AUC: 0.5000\n",
            "\n",
            "Grid search run 17/50\n",
            "Training with parameters: {'validation_size': 0.5, 'outer_bags': 4, 'min_samples_leaf': 2, 'max_leaves': 5, 'max_interaction_bins': 32, 'max_bins': 256, 'learning_rate': 0.05, 'interactions': 15, 'inner_bags': 4}\n",
            "AUC: 0.7349\n",
            "\n",
            "Grid search run 18/50\n",
            "Training with parameters: {'validation_size': 0.1, 'outer_bags': 12, 'min_samples_leaf': 1, 'max_leaves': 3, 'max_interaction_bins': 64, 'max_bins': 512, 'learning_rate': 0.01, 'interactions': 15, 'inner_bags': 4}\n",
            "AUC: 0.7370\n",
            "\n",
            "Grid search run 19/50\n",
            "Training with parameters: {'validation_size': 0.25, 'outer_bags': 12, 'min_samples_leaf': 5, 'max_leaves': 1, 'max_interaction_bins': 32, 'max_bins': 128, 'learning_rate': 0.01, 'interactions': 5, 'inner_bags': 4}\n",
            "AUC: 0.5000\n",
            "\n",
            "Grid search run 20/50\n",
            "Training with parameters: {'validation_size': 0.1, 'outer_bags': 4, 'min_samples_leaf': 10, 'max_leaves': 1, 'max_interaction_bins': 16, 'max_bins': 128, 'learning_rate': 0.001, 'interactions': 10, 'inner_bags': 0}\n",
            "AUC: 0.5000\n",
            "\n",
            "Grid search run 21/50\n",
            "Training with parameters: {'validation_size': 0.1, 'outer_bags': 4, 'min_samples_leaf': 1, 'max_leaves': 3, 'max_interaction_bins': 32, 'max_bins': 128, 'learning_rate': 0.05, 'interactions': 5, 'inner_bags': 0}\n",
            "AUC: 0.7341\n",
            "\n",
            "Grid search run 22/50\n",
            "Training with parameters: {'validation_size': 0.5, 'outer_bags': 8, 'min_samples_leaf': 1, 'max_leaves': 5, 'max_interaction_bins': 32, 'max_bins': 512, 'learning_rate': 0.01, 'interactions': 5, 'inner_bags': 4}\n",
            "AUC: 0.7341\n",
            "\n",
            "Grid search run 23/50\n",
            "Training with parameters: {'validation_size': 0.1, 'outer_bags': 8, 'min_samples_leaf': 1, 'max_leaves': 3, 'max_interaction_bins': 64, 'max_bins': 128, 'learning_rate': 0.01, 'interactions': 10, 'inner_bags': 4}\n",
            "AUC: 0.7363\n",
            "\n",
            "Grid search run 24/50\n",
            "Training with parameters: {'validation_size': 0.1, 'outer_bags': 4, 'min_samples_leaf': 2, 'max_leaves': 1, 'max_interaction_bins': 32, 'max_bins': 128, 'learning_rate': 0.001, 'interactions': 15, 'inner_bags': 4}\n",
            "AUC: 0.5000\n",
            "\n",
            "Grid search run 25/50\n",
            "Training with parameters: {'validation_size': 0.1, 'outer_bags': 4, 'min_samples_leaf': 5, 'max_leaves': 5, 'max_interaction_bins': 16, 'max_bins': 128, 'learning_rate': 0.05, 'interactions': 10, 'inner_bags': 4}\n",
            "AUC: 0.7343\n",
            "\n",
            "Grid search run 26/50\n",
            "Training with parameters: {'validation_size': 0.25, 'outer_bags': 8, 'min_samples_leaf': 1, 'max_leaves': 3, 'max_interaction_bins': 32, 'max_bins': 256, 'learning_rate': 0.05, 'interactions': 5, 'inner_bags': 0}\n",
            "AUC: 0.7344\n",
            "\n",
            "Grid search run 27/50\n",
            "Training with parameters: {'validation_size': 0.5, 'outer_bags': 12, 'min_samples_leaf': 2, 'max_leaves': 5, 'max_interaction_bins': 16, 'max_bins': 128, 'learning_rate': 0.001, 'interactions': 10, 'inner_bags': 0}\n",
            "AUC: 0.7349\n",
            "\n",
            "Grid search run 28/50\n",
            "Training with parameters: {'validation_size': 0.25, 'outer_bags': 8, 'min_samples_leaf': 2, 'max_leaves': 1, 'max_interaction_bins': 16, 'max_bins': 512, 'learning_rate': 0.01, 'interactions': 15, 'inner_bags': 0}\n",
            "AUC: 0.5000\n",
            "\n",
            "Grid search run 29/50\n",
            "Training with parameters: {'validation_size': 0.25, 'outer_bags': 12, 'min_samples_leaf': 2, 'max_leaves': 5, 'max_interaction_bins': 16, 'max_bins': 512, 'learning_rate': 0.01, 'interactions': 15, 'inner_bags': 4}\n",
            "AUC: 0.7352\n",
            "\n",
            "Grid search run 30/50\n",
            "Training with parameters: {'validation_size': 0.25, 'outer_bags': 4, 'min_samples_leaf': 10, 'max_leaves': 1, 'max_interaction_bins': 32, 'max_bins': 256, 'learning_rate': 0.05, 'interactions': 5, 'inner_bags': 0}\n",
            "AUC: 0.5000\n",
            "\n",
            "Grid search run 31/50\n",
            "Training with parameters: {'validation_size': 0.1, 'outer_bags': 12, 'min_samples_leaf': 5, 'max_leaves': 3, 'max_interaction_bins': 16, 'max_bins': 128, 'learning_rate': 0.01, 'interactions': 10, 'inner_bags': 4}\n",
            "AUC: 0.7348\n",
            "\n",
            "Grid search run 32/50\n",
            "Training with parameters: {'validation_size': 0.5, 'outer_bags': 4, 'min_samples_leaf': 2, 'max_leaves': 5, 'max_interaction_bins': 16, 'max_bins': 128, 'learning_rate': 0.01, 'interactions': 10, 'inner_bags': 4}\n",
            "AUC: 0.7337\n",
            "\n",
            "Grid search run 33/50\n",
            "Training with parameters: {'validation_size': 0.1, 'outer_bags': 12, 'min_samples_leaf': 10, 'max_leaves': 5, 'max_interaction_bins': 16, 'max_bins': 512, 'learning_rate': 0.001, 'interactions': 15, 'inner_bags': 4}\n",
            "AUC: 0.7352\n",
            "\n",
            "Grid search run 34/50\n",
            "Training with parameters: {'validation_size': 0.5, 'outer_bags': 12, 'min_samples_leaf': 10, 'max_leaves': 1, 'max_interaction_bins': 16, 'max_bins': 128, 'learning_rate': 0.01, 'interactions': 5, 'inner_bags': 0}\n",
            "AUC: 0.5000\n",
            "\n",
            "Grid search run 35/50\n",
            "Training with parameters: {'validation_size': 0.5, 'outer_bags': 4, 'min_samples_leaf': 1, 'max_leaves': 1, 'max_interaction_bins': 16, 'max_bins': 128, 'learning_rate': 0.05, 'interactions': 10, 'inner_bags': 4}\n",
            "AUC: 0.5000\n",
            "\n",
            "Grid search run 36/50\n",
            "Training with parameters: {'validation_size': 0.25, 'outer_bags': 12, 'min_samples_leaf': 10, 'max_leaves': 1, 'max_interaction_bins': 32, 'max_bins': 256, 'learning_rate': 0.01, 'interactions': 10, 'inner_bags': 4}\n",
            "AUC: 0.5000\n",
            "\n",
            "Grid search run 37/50\n",
            "Training with parameters: {'validation_size': 0.5, 'outer_bags': 4, 'min_samples_leaf': 1, 'max_leaves': 1, 'max_interaction_bins': 32, 'max_bins': 128, 'learning_rate': 0.05, 'interactions': 15, 'inner_bags': 0}\n",
            "AUC: 0.5000\n",
            "\n",
            "Grid search run 38/50\n",
            "Training with parameters: {'validation_size': 0.25, 'outer_bags': 8, 'min_samples_leaf': 5, 'max_leaves': 3, 'max_interaction_bins': 32, 'max_bins': 512, 'learning_rate': 0.01, 'interactions': 10, 'inner_bags': 4}\n",
            "AUC: 0.7364\n",
            "\n",
            "Grid search run 39/50\n",
            "Training with parameters: {'validation_size': 0.25, 'outer_bags': 4, 'min_samples_leaf': 10, 'max_leaves': 1, 'max_interaction_bins': 64, 'max_bins': 256, 'learning_rate': 0.001, 'interactions': 10, 'inner_bags': 4}\n",
            "AUC: 0.5000\n",
            "\n",
            "Grid search run 40/50\n",
            "Training with parameters: {'validation_size': 0.1, 'outer_bags': 4, 'min_samples_leaf': 5, 'max_leaves': 5, 'max_interaction_bins': 16, 'max_bins': 512, 'learning_rate': 0.001, 'interactions': 5, 'inner_bags': 0}\n",
            "AUC: 0.7342\n",
            "\n",
            "Grid search run 41/50\n",
            "Training with parameters: {'validation_size': 0.25, 'outer_bags': 12, 'min_samples_leaf': 2, 'max_leaves': 5, 'max_interaction_bins': 64, 'max_bins': 128, 'learning_rate': 0.01, 'interactions': 10, 'inner_bags': 0}\n",
            "AUC: 0.7358\n",
            "\n",
            "Grid search run 42/50\n",
            "Training with parameters: {'validation_size': 0.1, 'outer_bags': 8, 'min_samples_leaf': 1, 'max_leaves': 3, 'max_interaction_bins': 64, 'max_bins': 128, 'learning_rate': 0.001, 'interactions': 10, 'inner_bags': 0}\n",
            "AUC: 0.7363\n",
            "\n",
            "Grid search run 43/50\n",
            "Training with parameters: {'validation_size': 0.25, 'outer_bags': 8, 'min_samples_leaf': 5, 'max_leaves': 5, 'max_interaction_bins': 16, 'max_bins': 512, 'learning_rate': 0.001, 'interactions': 10, 'inner_bags': 0}\n",
            "AUC: 0.7346\n",
            "\n",
            "Grid search run 44/50\n",
            "Training with parameters: {'validation_size': 0.25, 'outer_bags': 12, 'min_samples_leaf': 10, 'max_leaves': 5, 'max_interaction_bins': 16, 'max_bins': 512, 'learning_rate': 0.001, 'interactions': 10, 'inner_bags': 0}\n",
            "AUC: 0.7346\n",
            "\n",
            "Grid search run 45/50\n",
            "Training with parameters: {'validation_size': 0.5, 'outer_bags': 8, 'min_samples_leaf': 5, 'max_leaves': 5, 'max_interaction_bins': 64, 'max_bins': 256, 'learning_rate': 0.05, 'interactions': 15, 'inner_bags': 0}\n",
            "AUC: 0.7361\n",
            "\n",
            "Grid search run 46/50\n",
            "Training with parameters: {'validation_size': 0.25, 'outer_bags': 12, 'min_samples_leaf': 5, 'max_leaves': 1, 'max_interaction_bins': 16, 'max_bins': 128, 'learning_rate': 0.001, 'interactions': 10, 'inner_bags': 4}\n",
            "AUC: 0.5000\n",
            "\n",
            "Grid search run 47/50\n",
            "Training with parameters: {'validation_size': 0.5, 'outer_bags': 4, 'min_samples_leaf': 10, 'max_leaves': 3, 'max_interaction_bins': 16, 'max_bins': 256, 'learning_rate': 0.05, 'interactions': 10, 'inner_bags': 0}\n",
            "AUC: 0.7348\n",
            "\n",
            "Grid search run 48/50\n",
            "Training with parameters: {'validation_size': 0.5, 'outer_bags': 4, 'min_samples_leaf': 5, 'max_leaves': 1, 'max_interaction_bins': 16, 'max_bins': 512, 'learning_rate': 0.05, 'interactions': 5, 'inner_bags': 0}\n",
            "AUC: 0.5000\n",
            "\n",
            "Grid search run 49/50\n",
            "Training with parameters: {'validation_size': 0.1, 'outer_bags': 4, 'min_samples_leaf': 1, 'max_leaves': 5, 'max_interaction_bins': 32, 'max_bins': 128, 'learning_rate': 0.05, 'interactions': 15, 'inner_bags': 0}\n",
            "AUC: 0.7357\n",
            "\n",
            "Grid search run 50/50\n",
            "Training with parameters: {'validation_size': 0.25, 'outer_bags': 12, 'min_samples_leaf': 1, 'max_leaves': 5, 'max_interaction_bins': 64, 'max_bins': 512, 'learning_rate': 0.001, 'interactions': 15, 'inner_bags': 4}\n",
            "AUC: 0.7362\n",
            "Best grid-searched EBM AUC on cleaned data: 0.7370\n"
          ]
        }
      ]
    },
    {
      "cell_type": "markdown",
      "id": "6acde37e",
      "metadata": {
        "id": "6acde37e"
      },
      "source": [
        "#### Test remediated EBM on true validation data"
      ]
    },
    {
      "cell_type": "code",
      "execution_count": 18,
      "id": "218b96b1",
      "metadata": {
        "colab": {
          "base_uri": "https://localhost:8080/"
        },
        "id": "218b96b1",
        "outputId": "53be6462-034f-4536-a711-43b8ae30afd7"
      },
      "outputs": [
        {
          "output_type": "stream",
          "name": "stdout",
          "text": [
            "Remediated EBM true AUC: 0.7437.\n"
          ]
        }
      ],
      "source": [
        "# calculate predictions\n",
        "rem_ebm_phat2 = pd.DataFrame(rem_ebm.predict_proba(valid[rem_x_names])[:, 1], columns=['phat'])\n",
        "rem_ebm_phat2 = pd.concat([valid.reset_index(drop=True), rem_ebm_phat2], axis=1)\n",
        "rem_ebm_perf3 = ROC(rem_ebm2.predict_proba).explain_perf(valid[rem_x_names], valid[y_name])\n",
        "rem_auc3 = rem_ebm_perf3._internal_obj['overall']['auc']\n",
        "print('Remediated EBM true AUC: %.4f.' % rem_auc3)"
      ]
    },
    {
      "cell_type": "markdown",
      "id": "a5e5fbf4",
      "metadata": {
        "id": "a5e5fbf4"
      },
      "source": [
        "Dropping outliers and under-sampling increases true AUC!"
      ]
    },
    {
      "cell_type": "markdown",
      "id": "73765e94",
      "metadata": {
        "id": "73765e94"
      },
      "source": [
        "#### End global timer"
      ]
    },
    {
      "cell_type": "code",
      "execution_count": 20,
      "id": "e978d190",
      "metadata": {
        "colab": {
          "base_uri": "https://localhost:8080/"
        },
        "id": "e978d190",
        "outputId": "036e3b5c-8de5-4068-e0ba-e8f19baef9db"
      },
      "outputs": [
        {
          "output_type": "stream",
          "name": "stdout",
          "text": [
            "All tasks completed in 10102.74 s.\n"
          ]
        }
      ],
      "source": [
        "toc = time.time() - tic\n",
        "print('All tasks completed in %.2f s.' % (toc))"
      ]
    }
  ],
  "metadata": {
    "kernelspec": {
      "display_name": "Python 3 (ipykernel)",
      "language": "python",
      "name": "python3"
    },
    "language_info": {
      "codemirror_mode": {
        "name": "ipython",
        "version": 3
      },
      "file_extension": ".py",
      "mimetype": "text/x-python",
      "name": "python",
      "nbconvert_exporter": "python",
      "pygments_lexer": "ipython3",
      "version": "3.10.6"
    },
    "colab": {
      "provenance": [],
      "include_colab_link": true
    }
  },
  "nbformat": 4,
  "nbformat_minor": 5
}